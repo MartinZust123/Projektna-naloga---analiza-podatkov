{
 "cells": [
  {
   "attachments": {},
   "cell_type": "markdown",
   "metadata": {},
   "source": [
    "# Analiza podatkov stanovanj na Bolhi \n"
   ]
  },
  {
   "attachments": {},
   "cell_type": "markdown",
   "metadata": {},
   "source": [
    "V tem dokumentu imamo namen analizirati podatke o prodaji stanovanj, ki smo jih dobili na Bolhi. Imamo naslednji načrt:\n",
    "* Najprej bomo pogledali število stanovanj po posamezni lokaciji.\n",
    "* Nato bomo popravili nekatere napake, ki so se pojavile pri prenosu podatkov iz spletne strani.\n",
    "* Lotili se bomo analize na stanovanjih, ki imajo smiseln podatek o ceni.\n",
    "* Stanovanja z neničelno ceno bomo razdelili še v podtabele po regijah in jih analizirali."
   ]
  },
  {
   "cell_type": "code",
   "execution_count": 118,
   "metadata": {},
   "outputs": [],
   "source": [
    "import pandas as pd\n",
    "import os.path"
   ]
  },
  {
   "cell_type": "code",
   "execution_count": 119,
   "metadata": {},
   "outputs": [],
   "source": [
    "%matplotlib inline\n",
    "\n",
    "stanovanja = pd.read_csv(os.path.join('podatki','stanovanja_Bolha.csv'))"
   ]
  },
  {
   "attachments": {},
   "cell_type": "markdown",
   "metadata": {},
   "source": [
    "Prikažimo, kako trenutno izgleda naša tabela."
   ]
  },
  {
   "cell_type": "code",
   "execution_count": 120,
   "metadata": {},
   "outputs": [
    {
     "data": {
      "text/html": [
       "<div>\n",
       "<style scoped>\n",
       "    .dataframe tbody tr th:only-of-type {\n",
       "        vertical-align: middle;\n",
       "    }\n",
       "\n",
       "    .dataframe tbody tr th {\n",
       "        vertical-align: top;\n",
       "    }\n",
       "\n",
       "    .dataframe thead th {\n",
       "        text-align: right;\n",
       "    }\n",
       "</style>\n",
       "<table border=\"1\" class=\"dataframe\">\n",
       "  <thead>\n",
       "    <tr style=\"text-align: right;\">\n",
       "      <th></th>\n",
       "      <th>price</th>\n",
       "      <th>location</th>\n",
       "      <th>size</th>\n",
       "      <th>date</th>\n",
       "    </tr>\n",
       "  </thead>\n",
       "  <tbody>\n",
       "    <tr>\n",
       "      <th>0</th>\n",
       "      <td>NaN</td>\n",
       "      <td>Postojna, Postojna</td>\n",
       "      <td>Unknown</td>\n",
       "      <td>14.11.2022</td>\n",
       "    </tr>\n",
       "    <tr>\n",
       "      <th>1</th>\n",
       "      <td>680.0</td>\n",
       "      <td>Ljubljana Šiška, Šiška</td>\n",
       "      <td>45</td>\n",
       "      <td>14.11.2022</td>\n",
       "    </tr>\n",
       "    <tr>\n",
       "      <th>2</th>\n",
       "      <td>NaN</td>\n",
       "      <td>Maribor, Tabor</td>\n",
       "      <td>37</td>\n",
       "      <td>14.11.2022</td>\n",
       "    </tr>\n",
       "    <tr>\n",
       "      <th>3</th>\n",
       "      <td>600.0</td>\n",
       "      <td>Primorsko-goranska, Rijeka</td>\n",
       "      <td>60</td>\n",
       "      <td>14.11.2022</td>\n",
       "    </tr>\n",
       "    <tr>\n",
       "      <th>4</th>\n",
       "      <td>700.0</td>\n",
       "      <td>Ljubljana Bežigrad, Bežigrad</td>\n",
       "      <td>Unknown</td>\n",
       "      <td>13.11.2022</td>\n",
       "    </tr>\n",
       "    <tr>\n",
       "      <th>...</th>\n",
       "      <td>...</td>\n",
       "      <td>...</td>\n",
       "      <td>...</td>\n",
       "      <td>...</td>\n",
       "    </tr>\n",
       "    <tr>\n",
       "      <th>436</th>\n",
       "      <td>0.0</td>\n",
       "      <td>Maribor, Tabor</td>\n",
       "      <td>60</td>\n",
       "      <td>07.10.2020</td>\n",
       "    </tr>\n",
       "    <tr>\n",
       "      <th>437</th>\n",
       "      <td>NaN</td>\n",
       "      <td>Maribor, Kamnica</td>\n",
       "      <td>40</td>\n",
       "      <td>30.05.2020</td>\n",
       "    </tr>\n",
       "    <tr>\n",
       "      <th>438</th>\n",
       "      <td>160.0</td>\n",
       "      <td>Laško, Laško</td>\n",
       "      <td>60</td>\n",
       "      <td>15.02.2020</td>\n",
       "    </tr>\n",
       "    <tr>\n",
       "      <th>439</th>\n",
       "      <td>120.0</td>\n",
       "      <td>Kočevje, Kočevje</td>\n",
       "      <td>300</td>\n",
       "      <td>30.08.2019</td>\n",
       "    </tr>\n",
       "    <tr>\n",
       "      <th>440</th>\n",
       "      <td>350.0</td>\n",
       "      <td>Rače, Rače</td>\n",
       "      <td>70</td>\n",
       "      <td>07.05.2019</td>\n",
       "    </tr>\n",
       "  </tbody>\n",
       "</table>\n",
       "<p>441 rows × 4 columns</p>\n",
       "</div>"
      ],
      "text/plain": [
       "     price                      location     size        date\n",
       "0      NaN            Postojna, Postojna  Unknown  14.11.2022\n",
       "1    680.0        Ljubljana Šiška, Šiška       45  14.11.2022\n",
       "2      NaN                Maribor, Tabor       37  14.11.2022\n",
       "3    600.0    Primorsko-goranska, Rijeka       60  14.11.2022\n",
       "4    700.0  Ljubljana Bežigrad, Bežigrad  Unknown  13.11.2022\n",
       "..     ...                           ...      ...         ...\n",
       "436    0.0                Maribor, Tabor       60  07.10.2020\n",
       "437    NaN              Maribor, Kamnica       40  30.05.2020\n",
       "438  160.0                  Laško, Laško       60  15.02.2020\n",
       "439  120.0              Kočevje, Kočevje      300  30.08.2019\n",
       "440  350.0                    Rače, Rače       70  07.05.2019\n",
       "\n",
       "[441 rows x 4 columns]"
      ]
     },
     "execution_count": 120,
     "metadata": {},
     "output_type": "execute_result"
    }
   ],
   "source": [
    "stanovanja"
   ]
  },
  {
   "attachments": {},
   "cell_type": "markdown",
   "metadata": {},
   "source": [
    "## Preštevanje stanovanj po lokacijah"
   ]
  },
  {
   "cell_type": "code",
   "execution_count": 121,
   "metadata": {},
   "outputs": [
    {
     "data": {
      "text/plain": [
       "80"
      ]
     },
     "execution_count": 121,
     "metadata": {},
     "output_type": "execute_result"
    }
   ],
   "source": [
    "stevilo_stanovanj_v_Ljublajni = len(stanovanja.loc[stanovanja[\"location\"].str.contains(\"Ljubljana\")].index)\n",
    "stevilo_stanovanj_v_Ljublajni"
   ]
  },
  {
   "attachments": {},
   "cell_type": "markdown",
   "metadata": {},
   "source": [
    "Vidimo, da imamo vsaj 80 stanovanj, ki se nahajajo v Ljubljani. Podrobneje bomo ta stanovanja analizirali kasneje, sedaj nam zadošča le število stanovanj."
   ]
  },
  {
   "cell_type": "code",
   "execution_count": 122,
   "metadata": {},
   "outputs": [
    {
     "data": {
      "text/plain": [
       "102"
      ]
     },
     "execution_count": 122,
     "metadata": {},
     "output_type": "execute_result"
    }
   ],
   "source": [
    "stevilo_stanovanj_v_Mariboru = len(stanovanja.loc[stanovanja[\"location\"].str.contains(\"Maribor\")].index)\n",
    "stevilo_stanovanj_v_Mariboru\n"
   ]
  },
  {
   "attachments": {},
   "cell_type": "markdown",
   "metadata": {},
   "source": [
    "Presenetljivo opazimo, da je v Mariboru kar 100 ponudnikov, kar je celo več kot v Ljubljani."
   ]
  },
  {
   "cell_type": "code",
   "execution_count": 123,
   "metadata": {},
   "outputs": [
    {
     "data": {
      "text/plain": [
       "8"
      ]
     },
     "execution_count": 123,
     "metadata": {},
     "output_type": "execute_result"
    }
   ],
   "source": [
    "stevilo_stanovanj_v_Kranju = len(stanovanja.loc[stanovanja[\"location\"].str.contains(\"Kranj\")].index)\n",
    "stevilo_stanovanj_v_Kranju"
   ]
  },
  {
   "cell_type": "code",
   "execution_count": 124,
   "metadata": {},
   "outputs": [
    {
     "data": {
      "text/plain": [
       "6"
      ]
     },
     "execution_count": 124,
     "metadata": {},
     "output_type": "execute_result"
    }
   ],
   "source": [
    "stevilo_stanovanj_v_Kopru = len(stanovanja.loc[stanovanja[\"location\"].str.contains(\"Koper\")].index)\n",
    "stevilo_stanovanj_v_Kopru"
   ]
  },
  {
   "cell_type": "code",
   "execution_count": 125,
   "metadata": {},
   "outputs": [
    {
     "data": {
      "text/plain": [
       "19"
      ]
     },
     "execution_count": 125,
     "metadata": {},
     "output_type": "execute_result"
    }
   ],
   "source": [
    "stevilo_stanovanj_v_Celju = len(stanovanja.loc[stanovanja[\"location\"].str.contains(\"Celje\")].index)\n",
    "stevilo_stanovanj_v_Celju"
   ]
  },
  {
   "attachments": {},
   "cell_type": "markdown",
   "metadata": {},
   "source": [
    "## Filtracija stanovnanj s smiselno ceno"
   ]
  },
  {
   "attachments": {},
   "cell_type": "markdown",
   "metadata": {},
   "source": [
    "Poglejmo, koliko je cena najdražjega stanovanja"
   ]
  },
  {
   "cell_type": "code",
   "execution_count": 126,
   "metadata": {},
   "outputs": [
    {
     "data": {
      "text/plain": [
       "price    995.0\n",
       "dtype: float64"
      ]
     },
     "execution_count": 126,
     "metadata": {},
     "output_type": "execute_result"
    }
   ],
   "source": [
    "stanovanja[[\"price\"]].max()"
   ]
  },
  {
   "attachments": {},
   "cell_type": "markdown",
   "metadata": {},
   "source": [
    "Opazimo, da je cena precej nizka. Pričakovali bi, da je najdražje stanovanje dražje od 1000 evrov. Sklepamo, da so stanovanja dražja od 1000 evrov zakodirana pod veliko nižjo ceno. To popravimo bomo poskusili odpraviti."
   ]
  },
  {
   "cell_type": "code",
   "execution_count": 127,
   "metadata": {},
   "outputs": [
    {
     "data": {
      "text/html": [
       "<div>\n",
       "<style scoped>\n",
       "    .dataframe tbody tr th:only-of-type {\n",
       "        vertical-align: middle;\n",
       "    }\n",
       "\n",
       "    .dataframe tbody tr th {\n",
       "        vertical-align: top;\n",
       "    }\n",
       "\n",
       "    .dataframe thead th {\n",
       "        text-align: right;\n",
       "    }\n",
       "</style>\n",
       "<table border=\"1\" class=\"dataframe\">\n",
       "  <thead>\n",
       "    <tr style=\"text-align: right;\">\n",
       "      <th></th>\n",
       "      <th>price</th>\n",
       "      <th>location</th>\n",
       "      <th>size</th>\n",
       "      <th>date</th>\n",
       "    </tr>\n",
       "  </thead>\n",
       "  <tbody>\n",
       "    <tr>\n",
       "      <th>282</th>\n",
       "      <td>0.0</td>\n",
       "      <td>Izola, Jagodje</td>\n",
       "      <td>Unknown</td>\n",
       "      <td>23.10.2022</td>\n",
       "    </tr>\n",
       "    <tr>\n",
       "      <th>341</th>\n",
       "      <td>0.0</td>\n",
       "      <td>Maribor, Center</td>\n",
       "      <td>Unknown</td>\n",
       "      <td>16.10.2022</td>\n",
       "    </tr>\n",
       "    <tr>\n",
       "      <th>245</th>\n",
       "      <td>0.0</td>\n",
       "      <td>Sevnica, Sevnica</td>\n",
       "      <td>130</td>\n",
       "      <td>26.10.2022</td>\n",
       "    </tr>\n",
       "    <tr>\n",
       "      <th>31</th>\n",
       "      <td>0.0</td>\n",
       "      <td>Lendava, Lendavske Gorice</td>\n",
       "      <td>70</td>\n",
       "      <td>11.11.2022</td>\n",
       "    </tr>\n",
       "    <tr>\n",
       "      <th>237</th>\n",
       "      <td>0.0</td>\n",
       "      <td>Vransko, Vransko</td>\n",
       "      <td>35</td>\n",
       "      <td>27.10.2022</td>\n",
       "    </tr>\n",
       "    <tr>\n",
       "      <th>...</th>\n",
       "      <td>...</td>\n",
       "      <td>...</td>\n",
       "      <td>...</td>\n",
       "      <td>...</td>\n",
       "    </tr>\n",
       "    <tr>\n",
       "      <th>356</th>\n",
       "      <td>NaN</td>\n",
       "      <td>Šempeter pri Gorici, Šempeter pri Gorici</td>\n",
       "      <td>25</td>\n",
       "      <td>15.10.2022</td>\n",
       "    </tr>\n",
       "    <tr>\n",
       "      <th>371</th>\n",
       "      <td>NaN</td>\n",
       "      <td>Radovljica, Radovljica</td>\n",
       "      <td>Unknown</td>\n",
       "      <td>27.09.2022</td>\n",
       "    </tr>\n",
       "    <tr>\n",
       "      <th>431</th>\n",
       "      <td>NaN</td>\n",
       "      <td>Maribor, Tabor</td>\n",
       "      <td>58</td>\n",
       "      <td>04.01.2021</td>\n",
       "    </tr>\n",
       "    <tr>\n",
       "      <th>433</th>\n",
       "      <td>NaN</td>\n",
       "      <td>Maribor, Center</td>\n",
       "      <td>1</td>\n",
       "      <td>27.10.2020</td>\n",
       "    </tr>\n",
       "    <tr>\n",
       "      <th>437</th>\n",
       "      <td>NaN</td>\n",
       "      <td>Maribor, Kamnica</td>\n",
       "      <td>40</td>\n",
       "      <td>30.05.2020</td>\n",
       "    </tr>\n",
       "  </tbody>\n",
       "</table>\n",
       "<p>441 rows × 4 columns</p>\n",
       "</div>"
      ],
      "text/plain": [
       "     price                                  location     size        date\n",
       "282    0.0                            Izola, Jagodje  Unknown  23.10.2022\n",
       "341    0.0                           Maribor, Center  Unknown  16.10.2022\n",
       "245    0.0                          Sevnica, Sevnica      130  26.10.2022\n",
       "31     0.0                 Lendava, Lendavske Gorice       70  11.11.2022\n",
       "237    0.0                          Vransko, Vransko       35  27.10.2022\n",
       "..     ...                                       ...      ...         ...\n",
       "356    NaN  Šempeter pri Gorici, Šempeter pri Gorici       25  15.10.2022\n",
       "371    NaN                    Radovljica, Radovljica  Unknown  27.09.2022\n",
       "431    NaN                            Maribor, Tabor       58  04.01.2021\n",
       "433    NaN                           Maribor, Center        1  27.10.2020\n",
       "437    NaN                          Maribor, Kamnica       40  30.05.2020\n",
       "\n",
       "[441 rows x 4 columns]"
      ]
     },
     "execution_count": 127,
     "metadata": {},
     "output_type": "execute_result"
    }
   ],
   "source": [
    "stanovanja = stanovanja.sort_values(by=\"price\")\n",
    "\n",
    "stanovanja"
   ]
  },
  {
   "attachments": {},
   "cell_type": "markdown",
   "metadata": {},
   "source": [
    "V naslednjem koraku bomo stanovanjem s nedefinirano ceno podelili ceno 0. "
   ]
  },
  {
   "cell_type": "code",
   "execution_count": 128,
   "metadata": {},
   "outputs": [],
   "source": [
    "stanovanja[\"price\"] = stanovanja[\"price\"].fillna(0)"
   ]
  },
  {
   "attachments": {},
   "cell_type": "markdown",
   "metadata": {},
   "source": [
    "Ponovno urednimo stanovanja"
   ]
  },
  {
   "cell_type": "code",
   "execution_count": 129,
   "metadata": {},
   "outputs": [
    {
     "data": {
      "text/html": [
       "<div>\n",
       "<style scoped>\n",
       "    .dataframe tbody tr th:only-of-type {\n",
       "        vertical-align: middle;\n",
       "    }\n",
       "\n",
       "    .dataframe tbody tr th {\n",
       "        vertical-align: top;\n",
       "    }\n",
       "\n",
       "    .dataframe thead th {\n",
       "        text-align: right;\n",
       "    }\n",
       "</style>\n",
       "<table border=\"1\" class=\"dataframe\">\n",
       "  <thead>\n",
       "    <tr style=\"text-align: right;\">\n",
       "      <th></th>\n",
       "      <th>price</th>\n",
       "      <th>location</th>\n",
       "      <th>size</th>\n",
       "      <th>date</th>\n",
       "    </tr>\n",
       "  </thead>\n",
       "  <tbody>\n",
       "    <tr>\n",
       "      <th>282</th>\n",
       "      <td>0.0</td>\n",
       "      <td>Izola, Jagodje</td>\n",
       "      <td>Unknown</td>\n",
       "      <td>23.10.2022</td>\n",
       "    </tr>\n",
       "    <tr>\n",
       "      <th>108</th>\n",
       "      <td>0.0</td>\n",
       "      <td>Žalec, Žalec</td>\n",
       "      <td>26</td>\n",
       "      <td>07.11.2022</td>\n",
       "    </tr>\n",
       "    <tr>\n",
       "      <th>109</th>\n",
       "      <td>0.0</td>\n",
       "      <td>Šoštanj, Šoštanj</td>\n",
       "      <td>55</td>\n",
       "      <td>07.11.2022</td>\n",
       "    </tr>\n",
       "    <tr>\n",
       "      <th>111</th>\n",
       "      <td>0.0</td>\n",
       "      <td>Kranjska Gora, Gozd Martuljek</td>\n",
       "      <td>40</td>\n",
       "      <td>07.11.2022</td>\n",
       "    </tr>\n",
       "    <tr>\n",
       "      <th>136</th>\n",
       "      <td>0.0</td>\n",
       "      <td>Logatec, Grčarevec</td>\n",
       "      <td>80</td>\n",
       "      <td>05.11.2022</td>\n",
       "    </tr>\n",
       "    <tr>\n",
       "      <th>...</th>\n",
       "      <td>...</td>\n",
       "      <td>...</td>\n",
       "      <td>...</td>\n",
       "      <td>...</td>\n",
       "    </tr>\n",
       "    <tr>\n",
       "      <th>397</th>\n",
       "      <td>950.0</td>\n",
       "      <td>Ljubljana Center, Center</td>\n",
       "      <td>49</td>\n",
       "      <td>12.09.2022</td>\n",
       "    </tr>\n",
       "    <tr>\n",
       "      <th>411</th>\n",
       "      <td>950.0</td>\n",
       "      <td>Bled, Bohinjska Bela</td>\n",
       "      <td>Unknown</td>\n",
       "      <td>30.07.2022</td>\n",
       "    </tr>\n",
       "    <tr>\n",
       "      <th>9</th>\n",
       "      <td>980.0</td>\n",
       "      <td>Ljubljana Center, Stara Ljubljana</td>\n",
       "      <td>25</td>\n",
       "      <td>13.11.2022</td>\n",
       "    </tr>\n",
       "    <tr>\n",
       "      <th>97</th>\n",
       "      <td>990.0</td>\n",
       "      <td>Maribor, Tabor</td>\n",
       "      <td>114</td>\n",
       "      <td>08.11.2022</td>\n",
       "    </tr>\n",
       "    <tr>\n",
       "      <th>401</th>\n",
       "      <td>995.0</td>\n",
       "      <td>Maribor, Center</td>\n",
       "      <td>130</td>\n",
       "      <td>05.09.2022</td>\n",
       "    </tr>\n",
       "  </tbody>\n",
       "</table>\n",
       "<p>441 rows × 4 columns</p>\n",
       "</div>"
      ],
      "text/plain": [
       "     price                           location     size        date\n",
       "282    0.0                     Izola, Jagodje  Unknown  23.10.2022\n",
       "108    0.0                       Žalec, Žalec       26  07.11.2022\n",
       "109    0.0                   Šoštanj, Šoštanj       55  07.11.2022\n",
       "111    0.0      Kranjska Gora, Gozd Martuljek       40  07.11.2022\n",
       "136    0.0                 Logatec, Grčarevec       80  05.11.2022\n",
       "..     ...                                ...      ...         ...\n",
       "397  950.0           Ljubljana Center, Center       49  12.09.2022\n",
       "411  950.0               Bled, Bohinjska Bela  Unknown  30.07.2022\n",
       "9    980.0  Ljubljana Center, Stara Ljubljana       25  13.11.2022\n",
       "97   990.0                     Maribor, Tabor      114  08.11.2022\n",
       "401  995.0                    Maribor, Center      130  05.09.2022\n",
       "\n",
       "[441 rows x 4 columns]"
      ]
     },
     "execution_count": 129,
     "metadata": {},
     "output_type": "execute_result"
    }
   ],
   "source": [
    "stanovanja = stanovanja.sort_values(by=\"price\")\n",
    "stanovanja"
   ]
  },
  {
   "attachments": {},
   "cell_type": "markdown",
   "metadata": {},
   "source": [
    "Sedaj si bomo naredili posebno tabelo, ki bo vsebovala le stanovanja, ki imajo neničelno ceno."
   ]
  },
  {
   "cell_type": "code",
   "execution_count": 130,
   "metadata": {},
   "outputs": [
    {
     "data": {
      "text/html": [
       "<div>\n",
       "<style scoped>\n",
       "    .dataframe tbody tr th:only-of-type {\n",
       "        vertical-align: middle;\n",
       "    }\n",
       "\n",
       "    .dataframe tbody tr th {\n",
       "        vertical-align: top;\n",
       "    }\n",
       "\n",
       "    .dataframe thead th {\n",
       "        text-align: right;\n",
       "    }\n",
       "</style>\n",
       "<table border=\"1\" class=\"dataframe\">\n",
       "  <thead>\n",
       "    <tr style=\"text-align: right;\">\n",
       "      <th></th>\n",
       "      <th>price</th>\n",
       "      <th>location</th>\n",
       "      <th>size</th>\n",
       "      <th>date</th>\n",
       "    </tr>\n",
       "  </thead>\n",
       "  <tbody>\n",
       "    <tr>\n",
       "      <th>256</th>\n",
       "      <td>1.0</td>\n",
       "      <td>Maribor, Center</td>\n",
       "      <td>122.9</td>\n",
       "      <td>25.10.2022</td>\n",
       "    </tr>\n",
       "    <tr>\n",
       "      <th>358</th>\n",
       "      <td>1.0</td>\n",
       "      <td>Primorsko-goranska, Rijeka</td>\n",
       "      <td>94</td>\n",
       "      <td>12.10.2022</td>\n",
       "    </tr>\n",
       "    <tr>\n",
       "      <th>377</th>\n",
       "      <td>1.0</td>\n",
       "      <td>Primorsko-goranska, Rijeka</td>\n",
       "      <td>90</td>\n",
       "      <td>23.09.2022</td>\n",
       "    </tr>\n",
       "    <tr>\n",
       "      <th>348</th>\n",
       "      <td>1.0</td>\n",
       "      <td>Izola, Jagodje</td>\n",
       "      <td>80</td>\n",
       "      <td>16.10.2022</td>\n",
       "    </tr>\n",
       "    <tr>\n",
       "      <th>379</th>\n",
       "      <td>1.0</td>\n",
       "      <td>Primorsko-goranska, Kostrena</td>\n",
       "      <td>70</td>\n",
       "      <td>22.09.2022</td>\n",
       "    </tr>\n",
       "    <tr>\n",
       "      <th>...</th>\n",
       "      <td>...</td>\n",
       "      <td>...</td>\n",
       "      <td>...</td>\n",
       "      <td>...</td>\n",
       "    </tr>\n",
       "    <tr>\n",
       "      <th>397</th>\n",
       "      <td>950.0</td>\n",
       "      <td>Ljubljana Center, Center</td>\n",
       "      <td>49</td>\n",
       "      <td>12.09.2022</td>\n",
       "    </tr>\n",
       "    <tr>\n",
       "      <th>411</th>\n",
       "      <td>950.0</td>\n",
       "      <td>Bled, Bohinjska Bela</td>\n",
       "      <td>Unknown</td>\n",
       "      <td>30.07.2022</td>\n",
       "    </tr>\n",
       "    <tr>\n",
       "      <th>9</th>\n",
       "      <td>980.0</td>\n",
       "      <td>Ljubljana Center, Stara Ljubljana</td>\n",
       "      <td>25</td>\n",
       "      <td>13.11.2022</td>\n",
       "    </tr>\n",
       "    <tr>\n",
       "      <th>97</th>\n",
       "      <td>990.0</td>\n",
       "      <td>Maribor, Tabor</td>\n",
       "      <td>114</td>\n",
       "      <td>08.11.2022</td>\n",
       "    </tr>\n",
       "    <tr>\n",
       "      <th>401</th>\n",
       "      <td>995.0</td>\n",
       "      <td>Maribor, Center</td>\n",
       "      <td>130</td>\n",
       "      <td>05.09.2022</td>\n",
       "    </tr>\n",
       "  </tbody>\n",
       "</table>\n",
       "<p>327 rows × 4 columns</p>\n",
       "</div>"
      ],
      "text/plain": [
       "     price                           location     size        date\n",
       "256    1.0                    Maribor, Center    122.9  25.10.2022\n",
       "358    1.0         Primorsko-goranska, Rijeka       94  12.10.2022\n",
       "377    1.0         Primorsko-goranska, Rijeka       90  23.09.2022\n",
       "348    1.0                     Izola, Jagodje       80  16.10.2022\n",
       "379    1.0       Primorsko-goranska, Kostrena       70  22.09.2022\n",
       "..     ...                                ...      ...         ...\n",
       "397  950.0           Ljubljana Center, Center       49  12.09.2022\n",
       "411  950.0               Bled, Bohinjska Bela  Unknown  30.07.2022\n",
       "9    980.0  Ljubljana Center, Stara Ljubljana       25  13.11.2022\n",
       "97   990.0                     Maribor, Tabor      114  08.11.2022\n",
       "401  995.0                    Maribor, Center      130  05.09.2022\n",
       "\n",
       "[327 rows x 4 columns]"
      ]
     },
     "execution_count": 130,
     "metadata": {},
     "output_type": "execute_result"
    }
   ],
   "source": [
    "st = stanovanja[stanovanja.price > 0]\n",
    "st"
   ]
  },
  {
   "attachments": {},
   "cell_type": "markdown",
   "metadata": {},
   "source": [
    "Stanovanjem v tej novi tabeli podelimo nove indekse."
   ]
  },
  {
   "cell_type": "code",
   "execution_count": 131,
   "metadata": {},
   "outputs": [
    {
     "data": {
      "text/html": [
       "<div>\n",
       "<style scoped>\n",
       "    .dataframe tbody tr th:only-of-type {\n",
       "        vertical-align: middle;\n",
       "    }\n",
       "\n",
       "    .dataframe tbody tr th {\n",
       "        vertical-align: top;\n",
       "    }\n",
       "\n",
       "    .dataframe thead th {\n",
       "        text-align: right;\n",
       "    }\n",
       "</style>\n",
       "<table border=\"1\" class=\"dataframe\">\n",
       "  <thead>\n",
       "    <tr style=\"text-align: right;\">\n",
       "      <th></th>\n",
       "      <th>price</th>\n",
       "      <th>location</th>\n",
       "      <th>size</th>\n",
       "      <th>date</th>\n",
       "    </tr>\n",
       "  </thead>\n",
       "  <tbody>\n",
       "    <tr>\n",
       "      <th>0</th>\n",
       "      <td>1.0</td>\n",
       "      <td>Maribor, Center</td>\n",
       "      <td>122.9</td>\n",
       "      <td>25.10.2022</td>\n",
       "    </tr>\n",
       "    <tr>\n",
       "      <th>1</th>\n",
       "      <td>1.0</td>\n",
       "      <td>Primorsko-goranska, Rijeka</td>\n",
       "      <td>94</td>\n",
       "      <td>12.10.2022</td>\n",
       "    </tr>\n",
       "    <tr>\n",
       "      <th>2</th>\n",
       "      <td>1.0</td>\n",
       "      <td>Primorsko-goranska, Rijeka</td>\n",
       "      <td>90</td>\n",
       "      <td>23.09.2022</td>\n",
       "    </tr>\n",
       "    <tr>\n",
       "      <th>3</th>\n",
       "      <td>1.0</td>\n",
       "      <td>Izola, Jagodje</td>\n",
       "      <td>80</td>\n",
       "      <td>16.10.2022</td>\n",
       "    </tr>\n",
       "    <tr>\n",
       "      <th>4</th>\n",
       "      <td>1.0</td>\n",
       "      <td>Primorsko-goranska, Kostrena</td>\n",
       "      <td>70</td>\n",
       "      <td>22.09.2022</td>\n",
       "    </tr>\n",
       "    <tr>\n",
       "      <th>...</th>\n",
       "      <td>...</td>\n",
       "      <td>...</td>\n",
       "      <td>...</td>\n",
       "      <td>...</td>\n",
       "    </tr>\n",
       "    <tr>\n",
       "      <th>322</th>\n",
       "      <td>950.0</td>\n",
       "      <td>Ljubljana Center, Center</td>\n",
       "      <td>49</td>\n",
       "      <td>12.09.2022</td>\n",
       "    </tr>\n",
       "    <tr>\n",
       "      <th>323</th>\n",
       "      <td>950.0</td>\n",
       "      <td>Bled, Bohinjska Bela</td>\n",
       "      <td>Unknown</td>\n",
       "      <td>30.07.2022</td>\n",
       "    </tr>\n",
       "    <tr>\n",
       "      <th>324</th>\n",
       "      <td>980.0</td>\n",
       "      <td>Ljubljana Center, Stara Ljubljana</td>\n",
       "      <td>25</td>\n",
       "      <td>13.11.2022</td>\n",
       "    </tr>\n",
       "    <tr>\n",
       "      <th>325</th>\n",
       "      <td>990.0</td>\n",
       "      <td>Maribor, Tabor</td>\n",
       "      <td>114</td>\n",
       "      <td>08.11.2022</td>\n",
       "    </tr>\n",
       "    <tr>\n",
       "      <th>326</th>\n",
       "      <td>995.0</td>\n",
       "      <td>Maribor, Center</td>\n",
       "      <td>130</td>\n",
       "      <td>05.09.2022</td>\n",
       "    </tr>\n",
       "  </tbody>\n",
       "</table>\n",
       "<p>327 rows × 4 columns</p>\n",
       "</div>"
      ],
      "text/plain": [
       "     price                           location     size        date\n",
       "0      1.0                    Maribor, Center    122.9  25.10.2022\n",
       "1      1.0         Primorsko-goranska, Rijeka       94  12.10.2022\n",
       "2      1.0         Primorsko-goranska, Rijeka       90  23.09.2022\n",
       "3      1.0                     Izola, Jagodje       80  16.10.2022\n",
       "4      1.0       Primorsko-goranska, Kostrena       70  22.09.2022\n",
       "..     ...                                ...      ...         ...\n",
       "322  950.0           Ljubljana Center, Center       49  12.09.2022\n",
       "323  950.0               Bled, Bohinjska Bela  Unknown  30.07.2022\n",
       "324  980.0  Ljubljana Center, Stara Ljubljana       25  13.11.2022\n",
       "325  990.0                     Maribor, Tabor      114  08.11.2022\n",
       "326  995.0                    Maribor, Center      130  05.09.2022\n",
       "\n",
       "[327 rows x 4 columns]"
      ]
     },
     "execution_count": 131,
     "metadata": {},
     "output_type": "execute_result"
    }
   ],
   "source": [
    "st = st.reset_index(drop=True)\n",
    "st"
   ]
  },
  {
   "attachments": {},
   "cell_type": "markdown",
   "metadata": {},
   "source": [
    "Kot smo opazili že prej, imamo največjo ceno stanovananja pod 1000 evrov. Če se sprehodimo po spletni strani vidimo, da imamo cene nekje med 10 evrov do 9000 evrov. Sklepamo, da je prvih nekaj vrstic, kjer je cena nižja od 10 evrov, program narobe prebral. Zato te vrednosti pomnožimo s 1000."
   ]
  },
  {
   "cell_type": "code",
   "execution_count": 132,
   "metadata": {},
   "outputs": [
    {
     "data": {
      "text/html": [
       "<div>\n",
       "<style scoped>\n",
       "    .dataframe tbody tr th:only-of-type {\n",
       "        vertical-align: middle;\n",
       "    }\n",
       "\n",
       "    .dataframe tbody tr th {\n",
       "        vertical-align: top;\n",
       "    }\n",
       "\n",
       "    .dataframe thead th {\n",
       "        text-align: right;\n",
       "    }\n",
       "</style>\n",
       "<table border=\"1\" class=\"dataframe\">\n",
       "  <thead>\n",
       "    <tr style=\"text-align: right;\">\n",
       "      <th></th>\n",
       "      <th>price</th>\n",
       "      <th>location</th>\n",
       "      <th>size</th>\n",
       "      <th>date</th>\n",
       "    </tr>\n",
       "  </thead>\n",
       "  <tbody>\n",
       "    <tr>\n",
       "      <th>0</th>\n",
       "      <td>1000.0</td>\n",
       "      <td>Maribor, Center</td>\n",
       "      <td>122.9</td>\n",
       "      <td>25.10.2022</td>\n",
       "    </tr>\n",
       "    <tr>\n",
       "      <th>1</th>\n",
       "      <td>1000.0</td>\n",
       "      <td>Primorsko-goranska, Rijeka</td>\n",
       "      <td>94</td>\n",
       "      <td>12.10.2022</td>\n",
       "    </tr>\n",
       "    <tr>\n",
       "      <th>2</th>\n",
       "      <td>1000.0</td>\n",
       "      <td>Primorsko-goranska, Rijeka</td>\n",
       "      <td>90</td>\n",
       "      <td>23.09.2022</td>\n",
       "    </tr>\n",
       "    <tr>\n",
       "      <th>3</th>\n",
       "      <td>1000.0</td>\n",
       "      <td>Izola, Jagodje</td>\n",
       "      <td>80</td>\n",
       "      <td>16.10.2022</td>\n",
       "    </tr>\n",
       "    <tr>\n",
       "      <th>4</th>\n",
       "      <td>1000.0</td>\n",
       "      <td>Primorsko-goranska, Kostrena</td>\n",
       "      <td>70</td>\n",
       "      <td>22.09.2022</td>\n",
       "    </tr>\n",
       "    <tr>\n",
       "      <th>...</th>\n",
       "      <td>...</td>\n",
       "      <td>...</td>\n",
       "      <td>...</td>\n",
       "      <td>...</td>\n",
       "    </tr>\n",
       "    <tr>\n",
       "      <th>322</th>\n",
       "      <td>950.0</td>\n",
       "      <td>Ljubljana Center, Center</td>\n",
       "      <td>49</td>\n",
       "      <td>12.09.2022</td>\n",
       "    </tr>\n",
       "    <tr>\n",
       "      <th>323</th>\n",
       "      <td>950.0</td>\n",
       "      <td>Bled, Bohinjska Bela</td>\n",
       "      <td>Unknown</td>\n",
       "      <td>30.07.2022</td>\n",
       "    </tr>\n",
       "    <tr>\n",
       "      <th>324</th>\n",
       "      <td>980.0</td>\n",
       "      <td>Ljubljana Center, Stara Ljubljana</td>\n",
       "      <td>25</td>\n",
       "      <td>13.11.2022</td>\n",
       "    </tr>\n",
       "    <tr>\n",
       "      <th>325</th>\n",
       "      <td>990.0</td>\n",
       "      <td>Maribor, Tabor</td>\n",
       "      <td>114</td>\n",
       "      <td>08.11.2022</td>\n",
       "    </tr>\n",
       "    <tr>\n",
       "      <th>326</th>\n",
       "      <td>995.0</td>\n",
       "      <td>Maribor, Center</td>\n",
       "      <td>130</td>\n",
       "      <td>05.09.2022</td>\n",
       "    </tr>\n",
       "  </tbody>\n",
       "</table>\n",
       "<p>327 rows × 4 columns</p>\n",
       "</div>"
      ],
      "text/plain": [
       "      price                           location     size        date\n",
       "0    1000.0                    Maribor, Center    122.9  25.10.2022\n",
       "1    1000.0         Primorsko-goranska, Rijeka       94  12.10.2022\n",
       "2    1000.0         Primorsko-goranska, Rijeka       90  23.09.2022\n",
       "3    1000.0                     Izola, Jagodje       80  16.10.2022\n",
       "4    1000.0       Primorsko-goranska, Kostrena       70  22.09.2022\n",
       "..      ...                                ...      ...         ...\n",
       "322   950.0           Ljubljana Center, Center       49  12.09.2022\n",
       "323   950.0               Bled, Bohinjska Bela  Unknown  30.07.2022\n",
       "324   980.0  Ljubljana Center, Stara Ljubljana       25  13.11.2022\n",
       "325   990.0                     Maribor, Tabor      114  08.11.2022\n",
       "326   995.0                    Maribor, Center      130  05.09.2022\n",
       "\n",
       "[327 rows x 4 columns]"
      ]
     },
     "execution_count": 132,
     "metadata": {},
     "output_type": "execute_result"
    }
   ],
   "source": [
    "st.loc[st[\"price\"] < 10, \"price\"] = st.price.mul(1000)\n",
    "st"
   ]
  },
  {
   "attachments": {},
   "cell_type": "markdown",
   "metadata": {},
   "source": [
    "Tabelo \"st\" ponovno urednimo po ceni in ji posodobimo indekse."
   ]
  },
  {
   "cell_type": "code",
   "execution_count": 133,
   "metadata": {},
   "outputs": [
    {
     "data": {
      "text/html": [
       "<div>\n",
       "<style scoped>\n",
       "    .dataframe tbody tr th:only-of-type {\n",
       "        vertical-align: middle;\n",
       "    }\n",
       "\n",
       "    .dataframe tbody tr th {\n",
       "        vertical-align: top;\n",
       "    }\n",
       "\n",
       "    .dataframe thead th {\n",
       "        text-align: right;\n",
       "    }\n",
       "</style>\n",
       "<table border=\"1\" class=\"dataframe\">\n",
       "  <thead>\n",
       "    <tr style=\"text-align: right;\">\n",
       "      <th></th>\n",
       "      <th>price</th>\n",
       "      <th>location</th>\n",
       "      <th>size</th>\n",
       "      <th>date</th>\n",
       "    </tr>\n",
       "  </thead>\n",
       "  <tbody>\n",
       "    <tr>\n",
       "      <th>0</th>\n",
       "      <td>10.0</td>\n",
       "      <td>Kidričevo, Spodnji Gaj pri Pragerskem</td>\n",
       "      <td>Unknown</td>\n",
       "      <td>06.11.2022</td>\n",
       "    </tr>\n",
       "    <tr>\n",
       "      <th>1</th>\n",
       "      <td>10.0</td>\n",
       "      <td>Kidričevo, Kungota pri Ptuju</td>\n",
       "      <td>45</td>\n",
       "      <td>20.10.2022</td>\n",
       "    </tr>\n",
       "    <tr>\n",
       "      <th>2</th>\n",
       "      <td>30.0</td>\n",
       "      <td>Hrastnik, Hrastnik</td>\n",
       "      <td>80</td>\n",
       "      <td>24.10.2022</td>\n",
       "    </tr>\n",
       "    <tr>\n",
       "      <th>3</th>\n",
       "      <td>30.0</td>\n",
       "      <td>Celje, Center</td>\n",
       "      <td>35</td>\n",
       "      <td>25.10.2022</td>\n",
       "    </tr>\n",
       "    <tr>\n",
       "      <th>4</th>\n",
       "      <td>45.0</td>\n",
       "      <td>Trebnje, Trebnje</td>\n",
       "      <td>24</td>\n",
       "      <td>09.11.2022</td>\n",
       "    </tr>\n",
       "    <tr>\n",
       "      <th>...</th>\n",
       "      <td>...</td>\n",
       "      <td>...</td>\n",
       "      <td>...</td>\n",
       "      <td>...</td>\n",
       "    </tr>\n",
       "    <tr>\n",
       "      <th>322</th>\n",
       "      <td>2700.0</td>\n",
       "      <td>Ljubljana Center, Center</td>\n",
       "      <td>151.4</td>\n",
       "      <td>01.02.2022</td>\n",
       "    </tr>\n",
       "    <tr>\n",
       "      <th>323</th>\n",
       "      <td>2800.0</td>\n",
       "      <td>Ljubljana Center, Stara Ljubljana</td>\n",
       "      <td>Unknown</td>\n",
       "      <td>28.09.2022</td>\n",
       "    </tr>\n",
       "    <tr>\n",
       "      <th>324</th>\n",
       "      <td>2900.0</td>\n",
       "      <td>Ljubljana Moste Polje, Zelena jama</td>\n",
       "      <td>234.3</td>\n",
       "      <td>26.10.2022</td>\n",
       "    </tr>\n",
       "    <tr>\n",
       "      <th>325</th>\n",
       "      <td>3100.0</td>\n",
       "      <td>Ljubljana Vič Rudnik, Vič - Dolgi most</td>\n",
       "      <td>140</td>\n",
       "      <td>28.06.2022</td>\n",
       "    </tr>\n",
       "    <tr>\n",
       "      <th>326</th>\n",
       "      <td>5000.0</td>\n",
       "      <td>Hrastnik, Hrastnik</td>\n",
       "      <td>Unknown</td>\n",
       "      <td>25.10.2022</td>\n",
       "    </tr>\n",
       "  </tbody>\n",
       "</table>\n",
       "<p>327 rows × 4 columns</p>\n",
       "</div>"
      ],
      "text/plain": [
       "      price                                location     size        date\n",
       "0      10.0   Kidričevo, Spodnji Gaj pri Pragerskem  Unknown  06.11.2022\n",
       "1      10.0            Kidričevo, Kungota pri Ptuju       45  20.10.2022\n",
       "2      30.0                      Hrastnik, Hrastnik       80  24.10.2022\n",
       "3      30.0                           Celje, Center       35  25.10.2022\n",
       "4      45.0                        Trebnje, Trebnje       24  09.11.2022\n",
       "..      ...                                     ...      ...         ...\n",
       "322  2700.0                Ljubljana Center, Center    151.4  01.02.2022\n",
       "323  2800.0       Ljubljana Center, Stara Ljubljana  Unknown  28.09.2022\n",
       "324  2900.0      Ljubljana Moste Polje, Zelena jama    234.3  26.10.2022\n",
       "325  3100.0  Ljubljana Vič Rudnik, Vič - Dolgi most      140  28.06.2022\n",
       "326  5000.0                      Hrastnik, Hrastnik  Unknown  25.10.2022\n",
       "\n",
       "[327 rows x 4 columns]"
      ]
     },
     "execution_count": 133,
     "metadata": {},
     "output_type": "execute_result"
    }
   ],
   "source": [
    "st = st.sort_values(by=\"price\")\n",
    "st = st.reset_index(drop=True)\n",
    "st"
   ]
  },
  {
   "attachments": {},
   "cell_type": "markdown",
   "metadata": {},
   "source": [
    "## Dodajanje novih stolpcev v tabelo \"st\""
   ]
  },
  {
   "attachments": {},
   "cell_type": "markdown",
   "metadata": {},
   "source": [
    "Sedaj, ko smo končno uredili podatke, glede cene, bomo na tej tabeli dodali še nekaj stolpcev, ki bodo služili kot pomoč pri natančni analizi. Najprej bomo dodali parameter cena na kvadratni meter. Preden storim to, bom stanovanjem z neznano površino podelil površino, ki je povprečje površinj stanovanj, ki imamo znano površino."
   ]
  },
  {
   "cell_type": "code",
   "execution_count": 134,
   "metadata": {},
   "outputs": [],
   "source": [
    "vsota_površine = st[st[\"size\"] != \"Unknown\"][\"size\"].astype(float).sum()\n"
   ]
  },
  {
   "cell_type": "code",
   "execution_count": 135,
   "metadata": {},
   "outputs": [],
   "source": [
    "število_st_s_površino = st[st[\"size\"] != \"Unknown\"][\"size\"].astype(float).count()"
   ]
  },
  {
   "cell_type": "code",
   "execution_count": 136,
   "metadata": {},
   "outputs": [
    {
     "data": {
      "text/plain": [
       "61.354655172413786"
      ]
     },
     "execution_count": 136,
     "metadata": {},
     "output_type": "execute_result"
    }
   ],
   "source": [
    "povprečna_površina = vsota_površine / float(število_st_s_površino)\n",
    "povprečna_površina"
   ]
  },
  {
   "attachments": {},
   "cell_type": "markdown",
   "metadata": {},
   "source": [
    "Sedaj bomo stanovanjem z neznanim podatkom o površini podelili to \"povprečno_površino\""
   ]
  },
  {
   "cell_type": "code",
   "execution_count": 137,
   "metadata": {},
   "outputs": [
    {
     "data": {
      "text/html": [
       "<div>\n",
       "<style scoped>\n",
       "    .dataframe tbody tr th:only-of-type {\n",
       "        vertical-align: middle;\n",
       "    }\n",
       "\n",
       "    .dataframe tbody tr th {\n",
       "        vertical-align: top;\n",
       "    }\n",
       "\n",
       "    .dataframe thead th {\n",
       "        text-align: right;\n",
       "    }\n",
       "</style>\n",
       "<table border=\"1\" class=\"dataframe\">\n",
       "  <thead>\n",
       "    <tr style=\"text-align: right;\">\n",
       "      <th></th>\n",
       "      <th>price</th>\n",
       "      <th>location</th>\n",
       "      <th>size</th>\n",
       "      <th>date</th>\n",
       "    </tr>\n",
       "  </thead>\n",
       "  <tbody>\n",
       "    <tr>\n",
       "      <th>0</th>\n",
       "      <td>10.0</td>\n",
       "      <td>Kidričevo, Spodnji Gaj pri Pragerskem</td>\n",
       "      <td>61.354655</td>\n",
       "      <td>06.11.2022</td>\n",
       "    </tr>\n",
       "    <tr>\n",
       "      <th>1</th>\n",
       "      <td>10.0</td>\n",
       "      <td>Kidričevo, Kungota pri Ptuju</td>\n",
       "      <td>45</td>\n",
       "      <td>20.10.2022</td>\n",
       "    </tr>\n",
       "    <tr>\n",
       "      <th>2</th>\n",
       "      <td>30.0</td>\n",
       "      <td>Hrastnik, Hrastnik</td>\n",
       "      <td>80</td>\n",
       "      <td>24.10.2022</td>\n",
       "    </tr>\n",
       "    <tr>\n",
       "      <th>3</th>\n",
       "      <td>30.0</td>\n",
       "      <td>Celje, Center</td>\n",
       "      <td>35</td>\n",
       "      <td>25.10.2022</td>\n",
       "    </tr>\n",
       "    <tr>\n",
       "      <th>4</th>\n",
       "      <td>45.0</td>\n",
       "      <td>Trebnje, Trebnje</td>\n",
       "      <td>24</td>\n",
       "      <td>09.11.2022</td>\n",
       "    </tr>\n",
       "    <tr>\n",
       "      <th>...</th>\n",
       "      <td>...</td>\n",
       "      <td>...</td>\n",
       "      <td>...</td>\n",
       "      <td>...</td>\n",
       "    </tr>\n",
       "    <tr>\n",
       "      <th>322</th>\n",
       "      <td>2700.0</td>\n",
       "      <td>Ljubljana Center, Center</td>\n",
       "      <td>151.4</td>\n",
       "      <td>01.02.2022</td>\n",
       "    </tr>\n",
       "    <tr>\n",
       "      <th>323</th>\n",
       "      <td>2800.0</td>\n",
       "      <td>Ljubljana Center, Stara Ljubljana</td>\n",
       "      <td>61.354655</td>\n",
       "      <td>28.09.2022</td>\n",
       "    </tr>\n",
       "    <tr>\n",
       "      <th>324</th>\n",
       "      <td>2900.0</td>\n",
       "      <td>Ljubljana Moste Polje, Zelena jama</td>\n",
       "      <td>234.3</td>\n",
       "      <td>26.10.2022</td>\n",
       "    </tr>\n",
       "    <tr>\n",
       "      <th>325</th>\n",
       "      <td>3100.0</td>\n",
       "      <td>Ljubljana Vič Rudnik, Vič - Dolgi most</td>\n",
       "      <td>140</td>\n",
       "      <td>28.06.2022</td>\n",
       "    </tr>\n",
       "    <tr>\n",
       "      <th>326</th>\n",
       "      <td>5000.0</td>\n",
       "      <td>Hrastnik, Hrastnik</td>\n",
       "      <td>61.354655</td>\n",
       "      <td>25.10.2022</td>\n",
       "    </tr>\n",
       "  </tbody>\n",
       "</table>\n",
       "<p>327 rows × 4 columns</p>\n",
       "</div>"
      ],
      "text/plain": [
       "      price                                location       size        date\n",
       "0      10.0   Kidričevo, Spodnji Gaj pri Pragerskem  61.354655  06.11.2022\n",
       "1      10.0            Kidričevo, Kungota pri Ptuju         45  20.10.2022\n",
       "2      30.0                      Hrastnik, Hrastnik         80  24.10.2022\n",
       "3      30.0                           Celje, Center         35  25.10.2022\n",
       "4      45.0                        Trebnje, Trebnje         24  09.11.2022\n",
       "..      ...                                     ...        ...         ...\n",
       "322  2700.0                Ljubljana Center, Center      151.4  01.02.2022\n",
       "323  2800.0       Ljubljana Center, Stara Ljubljana  61.354655  28.09.2022\n",
       "324  2900.0      Ljubljana Moste Polje, Zelena jama      234.3  26.10.2022\n",
       "325  3100.0  Ljubljana Vič Rudnik, Vič - Dolgi most        140  28.06.2022\n",
       "326  5000.0                      Hrastnik, Hrastnik  61.354655  25.10.2022\n",
       "\n",
       "[327 rows x 4 columns]"
      ]
     },
     "execution_count": 137,
     "metadata": {},
     "output_type": "execute_result"
    }
   ],
   "source": [
    "st[\"size\"] = st[\"size\"].replace([\"Unknown\"], povprečna_površina)\n",
    "st"
   ]
  },
  {
   "attachments": {},
   "cell_type": "markdown",
   "metadata": {},
   "source": [
    "Da bodo vsi podatki v stolpcu \"size\" enakega tipa, vse podatke spremenimo v tip float. "
   ]
  },
  {
   "cell_type": "code",
   "execution_count": 138,
   "metadata": {},
   "outputs": [
    {
     "data": {
      "text/html": [
       "<div>\n",
       "<style scoped>\n",
       "    .dataframe tbody tr th:only-of-type {\n",
       "        vertical-align: middle;\n",
       "    }\n",
       "\n",
       "    .dataframe tbody tr th {\n",
       "        vertical-align: top;\n",
       "    }\n",
       "\n",
       "    .dataframe thead th {\n",
       "        text-align: right;\n",
       "    }\n",
       "</style>\n",
       "<table border=\"1\" class=\"dataframe\">\n",
       "  <thead>\n",
       "    <tr style=\"text-align: right;\">\n",
       "      <th></th>\n",
       "      <th>price</th>\n",
       "      <th>location</th>\n",
       "      <th>size</th>\n",
       "      <th>date</th>\n",
       "    </tr>\n",
       "  </thead>\n",
       "  <tbody>\n",
       "    <tr>\n",
       "      <th>0</th>\n",
       "      <td>10.0</td>\n",
       "      <td>Kidričevo, Spodnji Gaj pri Pragerskem</td>\n",
       "      <td>61.354655</td>\n",
       "      <td>06.11.2022</td>\n",
       "    </tr>\n",
       "    <tr>\n",
       "      <th>1</th>\n",
       "      <td>10.0</td>\n",
       "      <td>Kidričevo, Kungota pri Ptuju</td>\n",
       "      <td>45.000000</td>\n",
       "      <td>20.10.2022</td>\n",
       "    </tr>\n",
       "    <tr>\n",
       "      <th>2</th>\n",
       "      <td>30.0</td>\n",
       "      <td>Hrastnik, Hrastnik</td>\n",
       "      <td>80.000000</td>\n",
       "      <td>24.10.2022</td>\n",
       "    </tr>\n",
       "    <tr>\n",
       "      <th>3</th>\n",
       "      <td>30.0</td>\n",
       "      <td>Celje, Center</td>\n",
       "      <td>35.000000</td>\n",
       "      <td>25.10.2022</td>\n",
       "    </tr>\n",
       "    <tr>\n",
       "      <th>4</th>\n",
       "      <td>45.0</td>\n",
       "      <td>Trebnje, Trebnje</td>\n",
       "      <td>24.000000</td>\n",
       "      <td>09.11.2022</td>\n",
       "    </tr>\n",
       "    <tr>\n",
       "      <th>...</th>\n",
       "      <td>...</td>\n",
       "      <td>...</td>\n",
       "      <td>...</td>\n",
       "      <td>...</td>\n",
       "    </tr>\n",
       "    <tr>\n",
       "      <th>322</th>\n",
       "      <td>2700.0</td>\n",
       "      <td>Ljubljana Center, Center</td>\n",
       "      <td>151.400000</td>\n",
       "      <td>01.02.2022</td>\n",
       "    </tr>\n",
       "    <tr>\n",
       "      <th>323</th>\n",
       "      <td>2800.0</td>\n",
       "      <td>Ljubljana Center, Stara Ljubljana</td>\n",
       "      <td>61.354655</td>\n",
       "      <td>28.09.2022</td>\n",
       "    </tr>\n",
       "    <tr>\n",
       "      <th>324</th>\n",
       "      <td>2900.0</td>\n",
       "      <td>Ljubljana Moste Polje, Zelena jama</td>\n",
       "      <td>234.300000</td>\n",
       "      <td>26.10.2022</td>\n",
       "    </tr>\n",
       "    <tr>\n",
       "      <th>325</th>\n",
       "      <td>3100.0</td>\n",
       "      <td>Ljubljana Vič Rudnik, Vič - Dolgi most</td>\n",
       "      <td>140.000000</td>\n",
       "      <td>28.06.2022</td>\n",
       "    </tr>\n",
       "    <tr>\n",
       "      <th>326</th>\n",
       "      <td>5000.0</td>\n",
       "      <td>Hrastnik, Hrastnik</td>\n",
       "      <td>61.354655</td>\n",
       "      <td>25.10.2022</td>\n",
       "    </tr>\n",
       "  </tbody>\n",
       "</table>\n",
       "<p>327 rows × 4 columns</p>\n",
       "</div>"
      ],
      "text/plain": [
       "      price                                location        size        date\n",
       "0      10.0   Kidričevo, Spodnji Gaj pri Pragerskem   61.354655  06.11.2022\n",
       "1      10.0            Kidričevo, Kungota pri Ptuju   45.000000  20.10.2022\n",
       "2      30.0                      Hrastnik, Hrastnik   80.000000  24.10.2022\n",
       "3      30.0                           Celje, Center   35.000000  25.10.2022\n",
       "4      45.0                        Trebnje, Trebnje   24.000000  09.11.2022\n",
       "..      ...                                     ...         ...         ...\n",
       "322  2700.0                Ljubljana Center, Center  151.400000  01.02.2022\n",
       "323  2800.0       Ljubljana Center, Stara Ljubljana   61.354655  28.09.2022\n",
       "324  2900.0      Ljubljana Moste Polje, Zelena jama  234.300000  26.10.2022\n",
       "325  3100.0  Ljubljana Vič Rudnik, Vič - Dolgi most  140.000000  28.06.2022\n",
       "326  5000.0                      Hrastnik, Hrastnik   61.354655  25.10.2022\n",
       "\n",
       "[327 rows x 4 columns]"
      ]
     },
     "execution_count": 138,
     "metadata": {},
     "output_type": "execute_result"
    }
   ],
   "source": [
    "st[\"size\"] = st[\"size\"].astype(float)\n",
    "st"
   ]
  },
  {
   "attachments": {},
   "cell_type": "markdown",
   "metadata": {},
   "source": [
    "Sedaj lahko končno dodamo stolpec cene na kvadratni meter."
   ]
  },
  {
   "cell_type": "code",
   "execution_count": 139,
   "metadata": {},
   "outputs": [
    {
     "data": {
      "text/html": [
       "<div>\n",
       "<style scoped>\n",
       "    .dataframe tbody tr th:only-of-type {\n",
       "        vertical-align: middle;\n",
       "    }\n",
       "\n",
       "    .dataframe tbody tr th {\n",
       "        vertical-align: top;\n",
       "    }\n",
       "\n",
       "    .dataframe thead th {\n",
       "        text-align: right;\n",
       "    }\n",
       "</style>\n",
       "<table border=\"1\" class=\"dataframe\">\n",
       "  <thead>\n",
       "    <tr style=\"text-align: right;\">\n",
       "      <th></th>\n",
       "      <th>price</th>\n",
       "      <th>location</th>\n",
       "      <th>size</th>\n",
       "      <th>date</th>\n",
       "      <th>per_m^2</th>\n",
       "    </tr>\n",
       "  </thead>\n",
       "  <tbody>\n",
       "    <tr>\n",
       "      <th>0</th>\n",
       "      <td>10.0</td>\n",
       "      <td>Kidričevo, Spodnji Gaj pri Pragerskem</td>\n",
       "      <td>61.354655</td>\n",
       "      <td>06.11.2022</td>\n",
       "      <td>0.162987</td>\n",
       "    </tr>\n",
       "    <tr>\n",
       "      <th>1</th>\n",
       "      <td>10.0</td>\n",
       "      <td>Kidričevo, Kungota pri Ptuju</td>\n",
       "      <td>45.000000</td>\n",
       "      <td>20.10.2022</td>\n",
       "      <td>0.222222</td>\n",
       "    </tr>\n",
       "    <tr>\n",
       "      <th>2</th>\n",
       "      <td>30.0</td>\n",
       "      <td>Hrastnik, Hrastnik</td>\n",
       "      <td>80.000000</td>\n",
       "      <td>24.10.2022</td>\n",
       "      <td>0.375000</td>\n",
       "    </tr>\n",
       "    <tr>\n",
       "      <th>3</th>\n",
       "      <td>30.0</td>\n",
       "      <td>Celje, Center</td>\n",
       "      <td>35.000000</td>\n",
       "      <td>25.10.2022</td>\n",
       "      <td>0.857143</td>\n",
       "    </tr>\n",
       "    <tr>\n",
       "      <th>4</th>\n",
       "      <td>45.0</td>\n",
       "      <td>Trebnje, Trebnje</td>\n",
       "      <td>24.000000</td>\n",
       "      <td>09.11.2022</td>\n",
       "      <td>1.875000</td>\n",
       "    </tr>\n",
       "    <tr>\n",
       "      <th>...</th>\n",
       "      <td>...</td>\n",
       "      <td>...</td>\n",
       "      <td>...</td>\n",
       "      <td>...</td>\n",
       "      <td>...</td>\n",
       "    </tr>\n",
       "    <tr>\n",
       "      <th>322</th>\n",
       "      <td>2700.0</td>\n",
       "      <td>Ljubljana Center, Center</td>\n",
       "      <td>151.400000</td>\n",
       "      <td>01.02.2022</td>\n",
       "      <td>17.833554</td>\n",
       "    </tr>\n",
       "    <tr>\n",
       "      <th>323</th>\n",
       "      <td>2800.0</td>\n",
       "      <td>Ljubljana Center, Stara Ljubljana</td>\n",
       "      <td>61.354655</td>\n",
       "      <td>28.09.2022</td>\n",
       "      <td>45.636309</td>\n",
       "    </tr>\n",
       "    <tr>\n",
       "      <th>324</th>\n",
       "      <td>2900.0</td>\n",
       "      <td>Ljubljana Moste Polje, Zelena jama</td>\n",
       "      <td>234.300000</td>\n",
       "      <td>26.10.2022</td>\n",
       "      <td>12.377294</td>\n",
       "    </tr>\n",
       "    <tr>\n",
       "      <th>325</th>\n",
       "      <td>3100.0</td>\n",
       "      <td>Ljubljana Vič Rudnik, Vič - Dolgi most</td>\n",
       "      <td>140.000000</td>\n",
       "      <td>28.06.2022</td>\n",
       "      <td>22.142857</td>\n",
       "    </tr>\n",
       "    <tr>\n",
       "      <th>326</th>\n",
       "      <td>5000.0</td>\n",
       "      <td>Hrastnik, Hrastnik</td>\n",
       "      <td>61.354655</td>\n",
       "      <td>25.10.2022</td>\n",
       "      <td>81.493409</td>\n",
       "    </tr>\n",
       "  </tbody>\n",
       "</table>\n",
       "<p>327 rows × 5 columns</p>\n",
       "</div>"
      ],
      "text/plain": [
       "      price                                location        size        date  \\\n",
       "0      10.0   Kidričevo, Spodnji Gaj pri Pragerskem   61.354655  06.11.2022   \n",
       "1      10.0            Kidričevo, Kungota pri Ptuju   45.000000  20.10.2022   \n",
       "2      30.0                      Hrastnik, Hrastnik   80.000000  24.10.2022   \n",
       "3      30.0                           Celje, Center   35.000000  25.10.2022   \n",
       "4      45.0                        Trebnje, Trebnje   24.000000  09.11.2022   \n",
       "..      ...                                     ...         ...         ...   \n",
       "322  2700.0                Ljubljana Center, Center  151.400000  01.02.2022   \n",
       "323  2800.0       Ljubljana Center, Stara Ljubljana   61.354655  28.09.2022   \n",
       "324  2900.0      Ljubljana Moste Polje, Zelena jama  234.300000  26.10.2022   \n",
       "325  3100.0  Ljubljana Vič Rudnik, Vič - Dolgi most  140.000000  28.06.2022   \n",
       "326  5000.0                      Hrastnik, Hrastnik   61.354655  25.10.2022   \n",
       "\n",
       "       per_m^2  \n",
       "0     0.162987  \n",
       "1     0.222222  \n",
       "2     0.375000  \n",
       "3     0.857143  \n",
       "4     1.875000  \n",
       "..         ...  \n",
       "322  17.833554  \n",
       "323  45.636309  \n",
       "324  12.377294  \n",
       "325  22.142857  \n",
       "326  81.493409  \n",
       "\n",
       "[327 rows x 5 columns]"
      ]
     },
     "execution_count": 139,
     "metadata": {},
     "output_type": "execute_result"
    }
   ],
   "source": [
    "st[\"per_m^2\"] = st[\"price\"] / st[\"size\"] \n",
    "st"
   ]
  },
  {
   "attachments": {},
   "cell_type": "markdown",
   "metadata": {},
   "source": [
    "Stolpec datumov bomo za potrebe lažje analize raje zamenjali z stolpcem starosti."
   ]
  },
  {
   "cell_type": "code",
   "execution_count": 140,
   "metadata": {},
   "outputs": [
    {
     "name": "stderr",
     "output_type": "stream",
     "text": [
      "C:\\Users\\marti\\AppData\\Local\\Temp\\ipykernel_2260\\2344210075.py:2: UserWarning: Parsing dates in DD/MM/YYYY format when dayfirst=False (the default) was specified. This may lead to inconsistently parsed dates! Specify a format to ensure consistent parsing.\n",
      "  st[\"date\"] = (datetime.datetime.now() - st[\"date\"].apply(pd.to_datetime))\n"
     ]
    },
    {
     "data": {
      "text/html": [
       "<div>\n",
       "<style scoped>\n",
       "    .dataframe tbody tr th:only-of-type {\n",
       "        vertical-align: middle;\n",
       "    }\n",
       "\n",
       "    .dataframe tbody tr th {\n",
       "        vertical-align: top;\n",
       "    }\n",
       "\n",
       "    .dataframe thead th {\n",
       "        text-align: right;\n",
       "    }\n",
       "</style>\n",
       "<table border=\"1\" class=\"dataframe\">\n",
       "  <thead>\n",
       "    <tr style=\"text-align: right;\">\n",
       "      <th></th>\n",
       "      <th>price</th>\n",
       "      <th>location</th>\n",
       "      <th>size</th>\n",
       "      <th>date</th>\n",
       "      <th>per_m^2</th>\n",
       "    </tr>\n",
       "  </thead>\n",
       "  <tbody>\n",
       "    <tr>\n",
       "      <th>0</th>\n",
       "      <td>10.0</td>\n",
       "      <td>Kidričevo, Spodnji Gaj pri Pragerskem</td>\n",
       "      <td>61.354655</td>\n",
       "      <td>240</td>\n",
       "      <td>0.162987</td>\n",
       "    </tr>\n",
       "    <tr>\n",
       "      <th>1</th>\n",
       "      <td>10.0</td>\n",
       "      <td>Kidričevo, Kungota pri Ptuju</td>\n",
       "      <td>45.000000</td>\n",
       "      <td>109</td>\n",
       "      <td>0.222222</td>\n",
       "    </tr>\n",
       "    <tr>\n",
       "      <th>2</th>\n",
       "      <td>30.0</td>\n",
       "      <td>Hrastnik, Hrastnik</td>\n",
       "      <td>80.000000</td>\n",
       "      <td>105</td>\n",
       "      <td>0.375000</td>\n",
       "    </tr>\n",
       "    <tr>\n",
       "      <th>3</th>\n",
       "      <td>30.0</td>\n",
       "      <td>Celje, Center</td>\n",
       "      <td>35.000000</td>\n",
       "      <td>104</td>\n",
       "      <td>0.857143</td>\n",
       "    </tr>\n",
       "    <tr>\n",
       "      <th>4</th>\n",
       "      <td>45.0</td>\n",
       "      <td>Trebnje, Trebnje</td>\n",
       "      <td>24.000000</td>\n",
       "      <td>148</td>\n",
       "      <td>1.875000</td>\n",
       "    </tr>\n",
       "    <tr>\n",
       "      <th>...</th>\n",
       "      <td>...</td>\n",
       "      <td>...</td>\n",
       "      <td>...</td>\n",
       "      <td>...</td>\n",
       "      <td>...</td>\n",
       "    </tr>\n",
       "    <tr>\n",
       "      <th>322</th>\n",
       "      <td>2700.0</td>\n",
       "      <td>Ljubljana Center, Center</td>\n",
       "      <td>151.400000</td>\n",
       "      <td>400</td>\n",
       "      <td>17.833554</td>\n",
       "    </tr>\n",
       "    <tr>\n",
       "      <th>323</th>\n",
       "      <td>2800.0</td>\n",
       "      <td>Ljubljana Center, Stara Ljubljana</td>\n",
       "      <td>61.354655</td>\n",
       "      <td>131</td>\n",
       "      <td>45.636309</td>\n",
       "    </tr>\n",
       "    <tr>\n",
       "      <th>324</th>\n",
       "      <td>2900.0</td>\n",
       "      <td>Ljubljana Moste Polje, Zelena jama</td>\n",
       "      <td>234.300000</td>\n",
       "      <td>103</td>\n",
       "      <td>12.377294</td>\n",
       "    </tr>\n",
       "    <tr>\n",
       "      <th>325</th>\n",
       "      <td>3100.0</td>\n",
       "      <td>Ljubljana Vič Rudnik, Vič - Dolgi most</td>\n",
       "      <td>140.000000</td>\n",
       "      <td>223</td>\n",
       "      <td>22.142857</td>\n",
       "    </tr>\n",
       "    <tr>\n",
       "      <th>326</th>\n",
       "      <td>5000.0</td>\n",
       "      <td>Hrastnik, Hrastnik</td>\n",
       "      <td>61.354655</td>\n",
       "      <td>104</td>\n",
       "      <td>81.493409</td>\n",
       "    </tr>\n",
       "  </tbody>\n",
       "</table>\n",
       "<p>327 rows × 5 columns</p>\n",
       "</div>"
      ],
      "text/plain": [
       "      price                                location        size  date  \\\n",
       "0      10.0   Kidričevo, Spodnji Gaj pri Pragerskem   61.354655   240   \n",
       "1      10.0            Kidričevo, Kungota pri Ptuju   45.000000   109   \n",
       "2      30.0                      Hrastnik, Hrastnik   80.000000   105   \n",
       "3      30.0                           Celje, Center   35.000000   104   \n",
       "4      45.0                        Trebnje, Trebnje   24.000000   148   \n",
       "..      ...                                     ...         ...   ...   \n",
       "322  2700.0                Ljubljana Center, Center  151.400000   400   \n",
       "323  2800.0       Ljubljana Center, Stara Ljubljana   61.354655   131   \n",
       "324  2900.0      Ljubljana Moste Polje, Zelena jama  234.300000   103   \n",
       "325  3100.0  Ljubljana Vič Rudnik, Vič - Dolgi most  140.000000   223   \n",
       "326  5000.0                      Hrastnik, Hrastnik   61.354655   104   \n",
       "\n",
       "       per_m^2  \n",
       "0     0.162987  \n",
       "1     0.222222  \n",
       "2     0.375000  \n",
       "3     0.857143  \n",
       "4     1.875000  \n",
       "..         ...  \n",
       "322  17.833554  \n",
       "323  45.636309  \n",
       "324  12.377294  \n",
       "325  22.142857  \n",
       "326  81.493409  \n",
       "\n",
       "[327 rows x 5 columns]"
      ]
     },
     "execution_count": 140,
     "metadata": {},
     "output_type": "execute_result"
    }
   ],
   "source": [
    "import datetime\n",
    "st[\"date\"] = (datetime.datetime.now() - st[\"date\"].apply(pd.to_datetime))\n",
    "st.date = st[\"date\"].dt.days\n",
    "st\n"
   ]
  },
  {
   "attachments": {},
   "cell_type": "markdown",
   "metadata": {},
   "source": [
    "## Analiza stanovanj z neničelno ceno"
   ]
  },
  {
   "attachments": {},
   "cell_type": "markdown",
   "metadata": {},
   "source": [
    "Recimo, da nas zanimajo stanovanja, ki so čim cenejša na kvadratni meter, niso prevelika ne premajhna ter njihov oglas ni na spletni strani predolgo. Da bomo vedeli, kaj je to preveliko, kaj premajhno, moramo najprej dobiti občutek, kako so porazdeljene velikosti stanovanj. "
   ]
  },
  {
   "attachments": {},
   "cell_type": "markdown",
   "metadata": {},
   "source": [
    "Za to, da dobimo občutek o tej porazdeljenosti bomo izračunali:\n",
    "* povprečje,\n",
    "* prvi kvartil, mediano in tretji kvartil,\n",
    "* maksimum,\n",
    "* minimum,\n",
    "* standrdni odklon."
   ]
  },
  {
   "cell_type": "code",
   "execution_count": 141,
   "metadata": {},
   "outputs": [
    {
     "data": {
      "text/plain": [
       "61.35465517241379"
      ]
     },
     "execution_count": 141,
     "metadata": {},
     "output_type": "execute_result"
    }
   ],
   "source": [
    "average = st[\"size\"].mean()\n",
    "average"
   ]
  },
  {
   "cell_type": "code",
   "execution_count": 142,
   "metadata": {},
   "outputs": [
    {
     "data": {
      "text/plain": [
       "0.25    41.5\n",
       "0.50    60.0\n",
       "0.75    70.0\n",
       "Name: size, dtype: float64"
      ]
     },
     "execution_count": 142,
     "metadata": {},
     "output_type": "execute_result"
    }
   ],
   "source": [
    "st[\"size\"].quantile([0.25, 0.5, 0.75])"
   ]
  },
  {
   "attachments": {},
   "cell_type": "markdown",
   "metadata": {},
   "source": [
    "Komentar: Vidimo, da je veliko vrednosti zgoščenih med 60 in 70."
   ]
  },
  {
   "cell_type": "code",
   "execution_count": 143,
   "metadata": {},
   "outputs": [
    {
     "data": {
      "text/plain": [
       "300.0"
      ]
     },
     "execution_count": 143,
     "metadata": {},
     "output_type": "execute_result"
    }
   ],
   "source": [
    "maksimum = st[\"size\"].max()\n",
    "maksimum"
   ]
  },
  {
   "cell_type": "code",
   "execution_count": 144,
   "metadata": {},
   "outputs": [
    {
     "data": {
      "text/plain": [
       "12.0"
      ]
     },
     "execution_count": 144,
     "metadata": {},
     "output_type": "execute_result"
    }
   ],
   "source": [
    "minimum = st[\"size\"].min()\n",
    "minimum"
   ]
  },
  {
   "cell_type": "code",
   "execution_count": 145,
   "metadata": {},
   "outputs": [
    {
     "data": {
      "text/plain": [
       "31.958025913579167"
      ]
     },
     "execution_count": 145,
     "metadata": {},
     "output_type": "execute_result"
    }
   ],
   "source": [
    "std = st[\"size\"].std()\n",
    "std"
   ]
  },
  {
   "attachments": {},
   "cell_type": "markdown",
   "metadata": {},
   "source": [
    "Za konec porazdelitev še upodobimo z grafom."
   ]
  },
  {
   "cell_type": "code",
   "execution_count": 146,
   "metadata": {},
   "outputs": [
    {
     "data": {
      "text/plain": [
       "<AxesSubplot: ylabel='Frequency'>"
      ]
     },
     "execution_count": 146,
     "metadata": {},
     "output_type": "execute_result"
    },
    {
     "data": {
      "image/png": "[encoded data removed]",
      "text/plain": [
       "<Figure size 640x480 with 1 Axes>"
      ]
     },
     "metadata": {},
     "output_type": "display_data"
    }
   ],
   "source": [
    "st[\"size\"].plot.hist(bins=70)"
   ]
  },
  {
   "attachments": {},
   "cell_type": "markdown",
   "metadata": {},
   "source": [
    "Pravijo, da slika pove več kot tisoč besed. V tem primeru je res tako. Vidimo nenavadno pogostost stanovanj, ki so velika približno 60 kvadratnih metrov. Zato bomo pri iskanju našega idealnega stanja iz začetka podpoglavja stanovanjem, z velikostjo pod 40 kvadratnih metrov podelili 1 točko, stanovanjem med 40 in 55 kvadrati 4 točke, stanovnjem med 55 in 70 metrov 6 točk, med 70 in 100 4 točke in večjim 1 točko. "
   ]
  },
  {
   "attachments": {},
   "cell_type": "markdown",
   "metadata": {},
   "source": [
    "Dodajmo stolpec z temi točkami."
   ]
  },
  {
   "cell_type": "code",
   "execution_count": 147,
   "metadata": {},
   "outputs": [
    {
     "data": {
      "text/html": [
       "<div>\n",
       "<style scoped>\n",
       "    .dataframe tbody tr th:only-of-type {\n",
       "        vertical-align: middle;\n",
       "    }\n",
       "\n",
       "    .dataframe tbody tr th {\n",
       "        vertical-align: top;\n",
       "    }\n",
       "\n",
       "    .dataframe thead th {\n",
       "        text-align: right;\n",
       "    }\n",
       "</style>\n",
       "<table border=\"1\" class=\"dataframe\">\n",
       "  <thead>\n",
       "    <tr style=\"text-align: right;\">\n",
       "      <th></th>\n",
       "      <th>price</th>\n",
       "      <th>location</th>\n",
       "      <th>size</th>\n",
       "      <th>date</th>\n",
       "      <th>per_m^2</th>\n",
       "      <th>size_index</th>\n",
       "    </tr>\n",
       "  </thead>\n",
       "  <tbody>\n",
       "    <tr>\n",
       "      <th>0</th>\n",
       "      <td>10.0</td>\n",
       "      <td>Kidričevo, Spodnji Gaj pri Pragerskem</td>\n",
       "      <td>61.354655</td>\n",
       "      <td>240</td>\n",
       "      <td>0.162987</td>\n",
       "      <td>6</td>\n",
       "    </tr>\n",
       "    <tr>\n",
       "      <th>1</th>\n",
       "      <td>10.0</td>\n",
       "      <td>Kidričevo, Kungota pri Ptuju</td>\n",
       "      <td>45.000000</td>\n",
       "      <td>109</td>\n",
       "      <td>0.222222</td>\n",
       "      <td>4</td>\n",
       "    </tr>\n",
       "    <tr>\n",
       "      <th>2</th>\n",
       "      <td>30.0</td>\n",
       "      <td>Hrastnik, Hrastnik</td>\n",
       "      <td>80.000000</td>\n",
       "      <td>105</td>\n",
       "      <td>0.375000</td>\n",
       "      <td>4</td>\n",
       "    </tr>\n",
       "    <tr>\n",
       "      <th>3</th>\n",
       "      <td>30.0</td>\n",
       "      <td>Celje, Center</td>\n",
       "      <td>35.000000</td>\n",
       "      <td>104</td>\n",
       "      <td>0.857143</td>\n",
       "      <td>1</td>\n",
       "    </tr>\n",
       "    <tr>\n",
       "      <th>4</th>\n",
       "      <td>45.0</td>\n",
       "      <td>Trebnje, Trebnje</td>\n",
       "      <td>24.000000</td>\n",
       "      <td>148</td>\n",
       "      <td>1.875000</td>\n",
       "      <td>1</td>\n",
       "    </tr>\n",
       "    <tr>\n",
       "      <th>...</th>\n",
       "      <td>...</td>\n",
       "      <td>...</td>\n",
       "      <td>...</td>\n",
       "      <td>...</td>\n",
       "      <td>...</td>\n",
       "      <td>...</td>\n",
       "    </tr>\n",
       "    <tr>\n",
       "      <th>322</th>\n",
       "      <td>2700.0</td>\n",
       "      <td>Ljubljana Center, Center</td>\n",
       "      <td>151.400000</td>\n",
       "      <td>400</td>\n",
       "      <td>17.833554</td>\n",
       "      <td>1</td>\n",
       "    </tr>\n",
       "    <tr>\n",
       "      <th>323</th>\n",
       "      <td>2800.0</td>\n",
       "      <td>Ljubljana Center, Stara Ljubljana</td>\n",
       "      <td>61.354655</td>\n",
       "      <td>131</td>\n",
       "      <td>45.636309</td>\n",
       "      <td>6</td>\n",
       "    </tr>\n",
       "    <tr>\n",
       "      <th>324</th>\n",
       "      <td>2900.0</td>\n",
       "      <td>Ljubljana Moste Polje, Zelena jama</td>\n",
       "      <td>234.300000</td>\n",
       "      <td>103</td>\n",
       "      <td>12.377294</td>\n",
       "      <td>1</td>\n",
       "    </tr>\n",
       "    <tr>\n",
       "      <th>325</th>\n",
       "      <td>3100.0</td>\n",
       "      <td>Ljubljana Vič Rudnik, Vič - Dolgi most</td>\n",
       "      <td>140.000000</td>\n",
       "      <td>223</td>\n",
       "      <td>22.142857</td>\n",
       "      <td>1</td>\n",
       "    </tr>\n",
       "    <tr>\n",
       "      <th>326</th>\n",
       "      <td>5000.0</td>\n",
       "      <td>Hrastnik, Hrastnik</td>\n",
       "      <td>61.354655</td>\n",
       "      <td>104</td>\n",
       "      <td>81.493409</td>\n",
       "      <td>6</td>\n",
       "    </tr>\n",
       "  </tbody>\n",
       "</table>\n",
       "<p>327 rows × 6 columns</p>\n",
       "</div>"
      ],
      "text/plain": [
       "      price                                location        size  date  \\\n",
       "0      10.0   Kidričevo, Spodnji Gaj pri Pragerskem   61.354655   240   \n",
       "1      10.0            Kidričevo, Kungota pri Ptuju   45.000000   109   \n",
       "2      30.0                      Hrastnik, Hrastnik   80.000000   105   \n",
       "3      30.0                           Celje, Center   35.000000   104   \n",
       "4      45.0                        Trebnje, Trebnje   24.000000   148   \n",
       "..      ...                                     ...         ...   ...   \n",
       "322  2700.0                Ljubljana Center, Center  151.400000   400   \n",
       "323  2800.0       Ljubljana Center, Stara Ljubljana   61.354655   131   \n",
       "324  2900.0      Ljubljana Moste Polje, Zelena jama  234.300000   103   \n",
       "325  3100.0  Ljubljana Vič Rudnik, Vič - Dolgi most  140.000000   223   \n",
       "326  5000.0                      Hrastnik, Hrastnik   61.354655   104   \n",
       "\n",
       "       per_m^2  size_index  \n",
       "0     0.162987           6  \n",
       "1     0.222222           4  \n",
       "2     0.375000           4  \n",
       "3     0.857143           1  \n",
       "4     1.875000           1  \n",
       "..         ...         ...  \n",
       "322  17.833554           1  \n",
       "323  45.636309           6  \n",
       "324  12.377294           1  \n",
       "325  22.142857           1  \n",
       "326  81.493409           6  \n",
       "\n",
       "[327 rows x 6 columns]"
      ]
     },
     "execution_count": 147,
     "metadata": {},
     "output_type": "execute_result"
    }
   ],
   "source": [
    "st[\"size_index\"] = 0\n",
    "st.loc[st['size'] < 40, 'size_index'] = 1\n",
    "st.loc[(st['size'] >= 40) & (st['size'] < 55), 'size_index'] = 4\n",
    "st.loc[(st['size'] >= 55) & (st['size'] < 70), 'size_index'] = 6\n",
    "st.loc[(st['size'] >= 70) & (st['size'] < 100), 'size_index'] = 4\n",
    "st.loc[st['size'] >= 100, 'size_index'] = 1\n",
    "st"
   ]
  },
  {
   "attachments": {},
   "cell_type": "markdown",
   "metadata": {},
   "source": [
    "Sedaj ustvarimo indeks, ki nam bo povedal, kako primerno je za nas neko stanovnaje. Večji, kot bo indeks bolj primerno je za nas neko stanovanje. Šlo bo za zmnožek 'size_index' obratne vrednosti 'per_m^2' in razlike maksimuma stolpca 'date' in vrednosti 'date'."
   ]
  },
  {
   "cell_type": "code",
   "execution_count": 148,
   "metadata": {},
   "outputs": [
    {
     "data": {
      "text/html": [
       "<div>\n",
       "<style scoped>\n",
       "    .dataframe tbody tr th:only-of-type {\n",
       "        vertical-align: middle;\n",
       "    }\n",
       "\n",
       "    .dataframe tbody tr th {\n",
       "        vertical-align: top;\n",
       "    }\n",
       "\n",
       "    .dataframe thead th {\n",
       "        text-align: right;\n",
       "    }\n",
       "</style>\n",
       "<table border=\"1\" class=\"dataframe\">\n",
       "  <thead>\n",
       "    <tr style=\"text-align: right;\">\n",
       "      <th></th>\n",
       "      <th>price</th>\n",
       "      <th>location</th>\n",
       "      <th>size</th>\n",
       "      <th>date</th>\n",
       "      <th>per_m^2</th>\n",
       "      <th>size_index</th>\n",
       "      <th>index</th>\n",
       "    </tr>\n",
       "  </thead>\n",
       "  <tbody>\n",
       "    <tr>\n",
       "      <th>0</th>\n",
       "      <td>10.0</td>\n",
       "      <td>Kidričevo, Spodnji Gaj pri Pragerskem</td>\n",
       "      <td>61.354655</td>\n",
       "      <td>240</td>\n",
       "      <td>0.162987</td>\n",
       "      <td>6</td>\n",
       "      <td>39463.314207</td>\n",
       "    </tr>\n",
       "    <tr>\n",
       "      <th>1</th>\n",
       "      <td>10.0</td>\n",
       "      <td>Kidričevo, Kungota pri Ptuju</td>\n",
       "      <td>45.000000</td>\n",
       "      <td>109</td>\n",
       "      <td>0.222222</td>\n",
       "      <td>4</td>\n",
       "      <td>21654.000000</td>\n",
       "    </tr>\n",
       "    <tr>\n",
       "      <th>2</th>\n",
       "      <td>30.0</td>\n",
       "      <td>Hrastnik, Hrastnik</td>\n",
       "      <td>80.000000</td>\n",
       "      <td>105</td>\n",
       "      <td>0.375000</td>\n",
       "      <td>4</td>\n",
       "      <td>12874.666667</td>\n",
       "    </tr>\n",
       "    <tr>\n",
       "      <th>3</th>\n",
       "      <td>30.0</td>\n",
       "      <td>Celje, Center</td>\n",
       "      <td>35.000000</td>\n",
       "      <td>104</td>\n",
       "      <td>0.857143</td>\n",
       "      <td>1</td>\n",
       "      <td>1409.333333</td>\n",
       "    </tr>\n",
       "    <tr>\n",
       "      <th>4</th>\n",
       "      <td>45.0</td>\n",
       "      <td>Trebnje, Trebnje</td>\n",
       "      <td>24.000000</td>\n",
       "      <td>148</td>\n",
       "      <td>1.875000</td>\n",
       "      <td>1</td>\n",
       "      <td>620.800000</td>\n",
       "    </tr>\n",
       "    <tr>\n",
       "      <th>...</th>\n",
       "      <td>...</td>\n",
       "      <td>...</td>\n",
       "      <td>...</td>\n",
       "      <td>...</td>\n",
       "      <td>...</td>\n",
       "      <td>...</td>\n",
       "      <td>...</td>\n",
       "    </tr>\n",
       "    <tr>\n",
       "      <th>322</th>\n",
       "      <td>2700.0</td>\n",
       "      <td>Ljubljana Center, Center</td>\n",
       "      <td>151.400000</td>\n",
       "      <td>400</td>\n",
       "      <td>17.833554</td>\n",
       "      <td>1</td>\n",
       "      <td>51.139556</td>\n",
       "    </tr>\n",
       "    <tr>\n",
       "      <th>323</th>\n",
       "      <td>2800.0</td>\n",
       "      <td>Ljubljana Center, Stara Ljubljana</td>\n",
       "      <td>61.354655</td>\n",
       "      <td>131</td>\n",
       "      <td>45.636309</td>\n",
       "      <td>6</td>\n",
       "      <td>155.271102</td>\n",
       "    </tr>\n",
       "    <tr>\n",
       "      <th>324</th>\n",
       "      <td>2900.0</td>\n",
       "      <td>Ljubljana Moste Polje, Zelena jama</td>\n",
       "      <td>234.300000</td>\n",
       "      <td>103</td>\n",
       "      <td>12.377294</td>\n",
       "      <td>1</td>\n",
       "      <td>97.678862</td>\n",
       "    </tr>\n",
       "    <tr>\n",
       "      <th>325</th>\n",
       "      <td>3100.0</td>\n",
       "      <td>Ljubljana Vič Rudnik, Vič - Dolgi most</td>\n",
       "      <td>140.000000</td>\n",
       "      <td>223</td>\n",
       "      <td>22.142857</td>\n",
       "      <td>1</td>\n",
       "      <td>49.180645</td>\n",
       "    </tr>\n",
       "    <tr>\n",
       "      <th>326</th>\n",
       "      <td>5000.0</td>\n",
       "      <td>Hrastnik, Hrastnik</td>\n",
       "      <td>61.354655</td>\n",
       "      <td>104</td>\n",
       "      <td>81.493409</td>\n",
       "      <td>6</td>\n",
       "      <td>88.939708</td>\n",
       "    </tr>\n",
       "  </tbody>\n",
       "</table>\n",
       "<p>327 rows × 7 columns</p>\n",
       "</div>"
      ],
      "text/plain": [
       "      price                                location        size  date  \\\n",
       "0      10.0   Kidričevo, Spodnji Gaj pri Pragerskem   61.354655   240   \n",
       "1      10.0            Kidričevo, Kungota pri Ptuju   45.000000   109   \n",
       "2      30.0                      Hrastnik, Hrastnik   80.000000   105   \n",
       "3      30.0                           Celje, Center   35.000000   104   \n",
       "4      45.0                        Trebnje, Trebnje   24.000000   148   \n",
       "..      ...                                     ...         ...   ...   \n",
       "322  2700.0                Ljubljana Center, Center  151.400000   400   \n",
       "323  2800.0       Ljubljana Center, Stara Ljubljana   61.354655   131   \n",
       "324  2900.0      Ljubljana Moste Polje, Zelena jama  234.300000   103   \n",
       "325  3100.0  Ljubljana Vič Rudnik, Vič - Dolgi most  140.000000   223   \n",
       "326  5000.0                      Hrastnik, Hrastnik   61.354655   104   \n",
       "\n",
       "       per_m^2  size_index         index  \n",
       "0     0.162987           6  39463.314207  \n",
       "1     0.222222           4  21654.000000  \n",
       "2     0.375000           4  12874.666667  \n",
       "3     0.857143           1   1409.333333  \n",
       "4     1.875000           1    620.800000  \n",
       "..         ...         ...           ...  \n",
       "322  17.833554           1     51.139556  \n",
       "323  45.636309           6    155.271102  \n",
       "324  12.377294           1     97.678862  \n",
       "325  22.142857           1     49.180645  \n",
       "326  81.493409           6     88.939708  \n",
       "\n",
       "[327 rows x 7 columns]"
      ]
     },
     "execution_count": 148,
     "metadata": {},
     "output_type": "execute_result"
    }
   ],
   "source": [
    "st['index'] = st['size_index'] * (1 / st['per_m^2']) * (st['date'].max() - st['date'])\n",
    "st"
   ]
  },
  {
   "attachments": {},
   "cell_type": "markdown",
   "metadata": {},
   "source": [
    "Sedaj tabelo 'st' urednimo glede na 'index'."
   ]
  },
  {
   "cell_type": "code",
   "execution_count": 149,
   "metadata": {},
   "outputs": [
    {
     "data": {
      "text/html": [
       "<div>\n",
       "<style scoped>\n",
       "    .dataframe tbody tr th:only-of-type {\n",
       "        vertical-align: middle;\n",
       "    }\n",
       "\n",
       "    .dataframe tbody tr th {\n",
       "        vertical-align: top;\n",
       "    }\n",
       "\n",
       "    .dataframe thead th {\n",
       "        text-align: right;\n",
       "    }\n",
       "</style>\n",
       "<table border=\"1\" class=\"dataframe\">\n",
       "  <thead>\n",
       "    <tr style=\"text-align: right;\">\n",
       "      <th></th>\n",
       "      <th>price</th>\n",
       "      <th>location</th>\n",
       "      <th>size</th>\n",
       "      <th>date</th>\n",
       "      <th>per_m^2</th>\n",
       "      <th>size_index</th>\n",
       "      <th>index</th>\n",
       "    </tr>\n",
       "  </thead>\n",
       "  <tbody>\n",
       "    <tr>\n",
       "      <th>0</th>\n",
       "      <td>10.0</td>\n",
       "      <td>Kidričevo, Spodnji Gaj pri Pragerskem</td>\n",
       "      <td>61.354655</td>\n",
       "      <td>240</td>\n",
       "      <td>0.162987</td>\n",
       "      <td>6</td>\n",
       "      <td>39463.314207</td>\n",
       "    </tr>\n",
       "    <tr>\n",
       "      <th>1</th>\n",
       "      <td>10.0</td>\n",
       "      <td>Kidričevo, Kungota pri Ptuju</td>\n",
       "      <td>45.000000</td>\n",
       "      <td>109</td>\n",
       "      <td>0.222222</td>\n",
       "      <td>4</td>\n",
       "      <td>21654.000000</td>\n",
       "    </tr>\n",
       "    <tr>\n",
       "      <th>2</th>\n",
       "      <td>30.0</td>\n",
       "      <td>Hrastnik, Hrastnik</td>\n",
       "      <td>80.000000</td>\n",
       "      <td>105</td>\n",
       "      <td>0.375000</td>\n",
       "      <td>4</td>\n",
       "      <td>12874.666667</td>\n",
       "    </tr>\n",
       "    <tr>\n",
       "      <th>5</th>\n",
       "      <td>50.0</td>\n",
       "      <td>Kranj, Kranj</td>\n",
       "      <td>65.000000</td>\n",
       "      <td>271</td>\n",
       "      <td>0.769231</td>\n",
       "      <td>6</td>\n",
       "      <td>8119.800000</td>\n",
       "    </tr>\n",
       "    <tr>\n",
       "      <th>6</th>\n",
       "      <td>65.0</td>\n",
       "      <td>Celje, Center</td>\n",
       "      <td>60.000000</td>\n",
       "      <td>210</td>\n",
       "      <td>1.083333</td>\n",
       "      <td>6</td>\n",
       "      <td>6103.384615</td>\n",
       "    </tr>\n",
       "    <tr>\n",
       "      <th>...</th>\n",
       "      <td>...</td>\n",
       "      <td>...</td>\n",
       "      <td>...</td>\n",
       "      <td>...</td>\n",
       "      <td>...</td>\n",
       "      <td>...</td>\n",
       "      <td>...</td>\n",
       "    </tr>\n",
       "    <tr>\n",
       "      <th>100</th>\n",
       "      <td>400.0</td>\n",
       "      <td>Maribor, Limbuš</td>\n",
       "      <td>15.000000</td>\n",
       "      <td>105</td>\n",
       "      <td>26.666667</td>\n",
       "      <td>1</td>\n",
       "      <td>45.262500</td>\n",
       "    </tr>\n",
       "    <tr>\n",
       "      <th>259</th>\n",
       "      <td>800.0</td>\n",
       "      <td>Ljubljana Šiška, Šentvid</td>\n",
       "      <td>37.320000</td>\n",
       "      <td>360</td>\n",
       "      <td>21.436227</td>\n",
       "      <td>1</td>\n",
       "      <td>44.410800</td>\n",
       "    </tr>\n",
       "    <tr>\n",
       "      <th>46</th>\n",
       "      <td>300.0</td>\n",
       "      <td>Maribor, Center</td>\n",
       "      <td>12.000000</td>\n",
       "      <td>240</td>\n",
       "      <td>25.000000</td>\n",
       "      <td>1</td>\n",
       "      <td>42.880000</td>\n",
       "    </tr>\n",
       "    <tr>\n",
       "      <th>276</th>\n",
       "      <td>980.0</td>\n",
       "      <td>Ljubljana Center, Stara Ljubljana</td>\n",
       "      <td>25.000000</td>\n",
       "      <td>85</td>\n",
       "      <td>39.200000</td>\n",
       "      <td>1</td>\n",
       "      <td>31.301020</td>\n",
       "    </tr>\n",
       "    <tr>\n",
       "      <th>69</th>\n",
       "      <td>350.0</td>\n",
       "      <td>Rače, Rače</td>\n",
       "      <td>70.000000</td>\n",
       "      <td>1312</td>\n",
       "      <td>5.000000</td>\n",
       "      <td>4</td>\n",
       "      <td>0.000000</td>\n",
       "    </tr>\n",
       "  </tbody>\n",
       "</table>\n",
       "<p>327 rows × 7 columns</p>\n",
       "</div>"
      ],
      "text/plain": [
       "     price                               location       size  date    per_m^2  \\\n",
       "0     10.0  Kidričevo, Spodnji Gaj pri Pragerskem  61.354655   240   0.162987   \n",
       "1     10.0           Kidričevo, Kungota pri Ptuju  45.000000   109   0.222222   \n",
       "2     30.0                     Hrastnik, Hrastnik  80.000000   105   0.375000   \n",
       "5     50.0                           Kranj, Kranj  65.000000   271   0.769231   \n",
       "6     65.0                          Celje, Center  60.000000   210   1.083333   \n",
       "..     ...                                    ...        ...   ...        ...   \n",
       "100  400.0                        Maribor, Limbuš  15.000000   105  26.666667   \n",
       "259  800.0               Ljubljana Šiška, Šentvid  37.320000   360  21.436227   \n",
       "46   300.0                        Maribor, Center  12.000000   240  25.000000   \n",
       "276  980.0      Ljubljana Center, Stara Ljubljana  25.000000    85  39.200000   \n",
       "69   350.0                             Rače, Rače  70.000000  1312   5.000000   \n",
       "\n",
       "     size_index         index  \n",
       "0             6  39463.314207  \n",
       "1             4  21654.000000  \n",
       "2             4  12874.666667  \n",
       "5             6   8119.800000  \n",
       "6             6   6103.384615  \n",
       "..          ...           ...  \n",
       "100           1     45.262500  \n",
       "259           1     44.410800  \n",
       "46            1     42.880000  \n",
       "276           1     31.301020  \n",
       "69            4      0.000000  \n",
       "\n",
       "[327 rows x 7 columns]"
      ]
     },
     "execution_count": 149,
     "metadata": {},
     "output_type": "execute_result"
    }
   ],
   "source": [
    "st.sort_values('index', ascending=False)"
   ]
  },
  {
   "attachments": {},
   "cell_type": "markdown",
   "metadata": {},
   "source": [
    "Vidimo, da je nekako glavni faktor 'index'-a stolpec 'price', saj stanovanja, ki so rangirana najvišje, izrazito izstopajo po nizki ceni. Opazimo, da je 'size_index' prav tako nekako dober pokazatelj, kako primerno je za nas neko stanovnaje, vendar obstajajo pogoste izjeme. Datum pa očitno od vseh treh faktorjev najmanj vpliva na razporeditev, saj opazimo, da je oglas, ki je na prvem mestu kar trikrat starejši od oglasa na predzadnjem mestu."
   ]
  },
  {
   "attachments": {},
   "cell_type": "markdown",
   "metadata": {},
   "source": [
    "Zaradi nenavadnosti rezultatov pri stolpcu 'date' si na podoben način kot pri velikosti poglejmo še razporeditev stanovanj glede na starost."
   ]
  },
  {
   "cell_type": "code",
   "execution_count": 150,
   "metadata": {},
   "outputs": [
    {
     "data": {
      "text/plain": [
       "176.36697247706422"
      ]
     },
     "execution_count": 150,
     "metadata": {},
     "output_type": "execute_result"
    }
   ],
   "source": [
    "average1 = st['date'].mean()\n",
    "average1"
   ]
  },
  {
   "cell_type": "code",
   "execution_count": 151,
   "metadata": {},
   "outputs": [
    {
     "data": {
      "text/plain": [
       "0.25    104.0\n",
       "0.50    118.0\n",
       "0.75    210.0\n",
       "Name: date, dtype: float64"
      ]
     },
     "execution_count": 151,
     "metadata": {},
     "output_type": "execute_result"
    }
   ],
   "source": [
    "st[\"date\"].quantile([0.25, 0.5, 0.75])"
   ]
  },
  {
   "attachments": {},
   "cell_type": "markdown",
   "metadata": {},
   "source": [
    "KOMENTAR: Pri velikostih sta bili mediana in povprečje dokaj poravnana, tukaj pa je med njima velika razlika. Vidimo, da je veliko stanovanj zgoščenih nekaj pod mediano, višje pa so precej bolj razpršeni. "
   ]
  },
  {
   "cell_type": "code",
   "execution_count": 152,
   "metadata": {},
   "outputs": [
    {
     "data": {
      "text/plain": [
       "1312"
      ]
     },
     "execution_count": 152,
     "metadata": {},
     "output_type": "execute_result"
    }
   ],
   "source": [
    "maksimum1 = st['date'].max()\n",
    "maksimum1"
   ]
  },
  {
   "cell_type": "code",
   "execution_count": 153,
   "metadata": {},
   "outputs": [
    {
     "data": {
      "text/plain": [
       "57"
      ]
     },
     "execution_count": 153,
     "metadata": {},
     "output_type": "execute_result"
    }
   ],
   "source": [
    "minimum1 = st['date'].min()\n",
    "minimum1"
   ]
  },
  {
   "cell_type": "code",
   "execution_count": 154,
   "metadata": {},
   "outputs": [
    {
     "data": {
      "text/plain": [
       "139.48566743997063"
      ]
     },
     "execution_count": 154,
     "metadata": {},
     "output_type": "execute_result"
    }
   ],
   "source": [
    "std1 = st['date'].std()\n",
    "std1"
   ]
  },
  {
   "attachments": {},
   "cell_type": "markdown",
   "metadata": {},
   "source": [
    "KOMENTAR: Standardni odklon je ogromen."
   ]
  },
  {
   "cell_type": "code",
   "execution_count": 155,
   "metadata": {},
   "outputs": [
    {
     "data": {
      "text/plain": [
       "<AxesSubplot: ylabel='Frequency'>"
      ]
     },
     "execution_count": 155,
     "metadata": {},
     "output_type": "execute_result"
    },
    {
     "data": {
      "image/png": "[encoded data removed]",
      "text/plain": [
       "<Figure size 640x480 with 1 Axes>"
      ]
     },
     "metadata": {},
     "output_type": "display_data"
    }
   ],
   "source": [
    "st['date'].plot.hist(bins=100)"
   ]
  },
  {
   "attachments": {},
   "cell_type": "markdown",
   "metadata": {},
   "source": [
    "Ponovno slika pove več kot tisoč besed."
   ]
  },
  {
   "attachments": {},
   "cell_type": "markdown",
   "metadata": {},
   "source": [
    "Narišimo še graf odvisnosti 'index'-a od 'price'."
   ]
  },
  {
   "cell_type": "code",
   "execution_count": 156,
   "metadata": {},
   "outputs": [
    {
     "data": {
      "text/plain": [
       "<AxesSubplot: xlabel='price', ylabel='index'>"
      ]
     },
     "execution_count": 156,
     "metadata": {},
     "output_type": "execute_result"
    },
    {
     "data": {
      "image/png": "[encoded data removed]",
      "text/plain": [
       "<Figure size 640x480 with 1 Axes>"
      ]
     },
     "metadata": {},
     "output_type": "display_data"
    }
   ],
   "source": [
    "st.plot.scatter(x = 'price', y = 'index')"
   ]
  },
  {
   "attachments": {},
   "cell_type": "markdown",
   "metadata": {},
   "source": [
    "Ker vidimo, da nekaj vrednsoti precej izstopa, bi bilo zanimivo videti, kako izgleda graf, če ostranimo nekaj vrednosti."
   ]
  },
  {
   "cell_type": "code",
   "execution_count": 157,
   "metadata": {},
   "outputs": [
    {
     "data": {
      "text/plain": [
       "<AxesSubplot: xlabel='price', ylabel='index'>"
      ]
     },
     "execution_count": 157,
     "metadata": {},
     "output_type": "execute_result"
    },
    {
     "data": {
      "image/png": "[encoded data removed]",
      "text/plain": [
       "<Figure size 640x480 with 1 Axes>"
      ]
     },
     "metadata": {},
     "output_type": "display_data"
    }
   ],
   "source": [
    "st[30:].plot.scatter(x = 'price', y = 'index')"
   ]
  },
  {
   "attachments": {},
   "cell_type": "markdown",
   "metadata": {},
   "source": [
    "## Analiza stanovanj po mestih"
   ]
  },
  {
   "attachments": {},
   "cell_type": "markdown",
   "metadata": {},
   "source": [
    "Glede na to, da smo na začetku ugotovili, da je največ stanovanj iz Maribora, bomo najprej analizirali te."
   ]
  },
  {
   "cell_type": "code",
   "execution_count": 158,
   "metadata": {},
   "outputs": [
    {
     "data": {
      "text/html": [
       "<div>\n",
       "<style scoped>\n",
       "    .dataframe tbody tr th:only-of-type {\n",
       "        vertical-align: middle;\n",
       "    }\n",
       "\n",
       "    .dataframe tbody tr th {\n",
       "        vertical-align: top;\n",
       "    }\n",
       "\n",
       "    .dataframe thead th {\n",
       "        text-align: right;\n",
       "    }\n",
       "</style>\n",
       "<table border=\"1\" class=\"dataframe\">\n",
       "  <thead>\n",
       "    <tr style=\"text-align: right;\">\n",
       "      <th></th>\n",
       "      <th>price</th>\n",
       "      <th>location</th>\n",
       "      <th>size</th>\n",
       "      <th>date</th>\n",
       "      <th>per_m^2</th>\n",
       "      <th>size_index</th>\n",
       "      <th>index</th>\n",
       "    </tr>\n",
       "  </thead>\n",
       "  <tbody>\n",
       "    <tr>\n",
       "      <th>22</th>\n",
       "      <td>180.0</td>\n",
       "      <td>Hoče, Slivnica pri Mariboru</td>\n",
       "      <td>40.000000</td>\n",
       "      <td>57</td>\n",
       "      <td>4.500000</td>\n",
       "      <td>4</td>\n",
       "      <td>1115.555556</td>\n",
       "    </tr>\n",
       "    <tr>\n",
       "      <th>23</th>\n",
       "      <td>200.0</td>\n",
       "      <td>Maribor, Magdalena</td>\n",
       "      <td>61.354655</td>\n",
       "      <td>101</td>\n",
       "      <td>3.259736</td>\n",
       "      <td>6</td>\n",
       "      <td>2229.014622</td>\n",
       "    </tr>\n",
       "    <tr>\n",
       "      <th>31</th>\n",
       "      <td>260.0</td>\n",
       "      <td>Maribor, Kamnica</td>\n",
       "      <td>20.000000</td>\n",
       "      <td>360</td>\n",
       "      <td>13.000000</td>\n",
       "      <td>1</td>\n",
       "      <td>73.230769</td>\n",
       "    </tr>\n",
       "    <tr>\n",
       "      <th>33</th>\n",
       "      <td>260.0</td>\n",
       "      <td>Maribor, Center</td>\n",
       "      <td>16.000000</td>\n",
       "      <td>118</td>\n",
       "      <td>16.250000</td>\n",
       "      <td>1</td>\n",
       "      <td>73.476923</td>\n",
       "    </tr>\n",
       "    <tr>\n",
       "      <th>35</th>\n",
       "      <td>280.0</td>\n",
       "      <td>Maribor, Pobrežje</td>\n",
       "      <td>26.000000</td>\n",
       "      <td>148</td>\n",
       "      <td>10.769231</td>\n",
       "      <td>1</td>\n",
       "      <td>108.085714</td>\n",
       "    </tr>\n",
       "    <tr>\n",
       "      <th>...</th>\n",
       "      <td>...</td>\n",
       "      <td>...</td>\n",
       "      <td>...</td>\n",
       "      <td>...</td>\n",
       "      <td>...</td>\n",
       "      <td>...</td>\n",
       "      <td>...</td>\n",
       "    </tr>\n",
       "    <tr>\n",
       "      <th>278</th>\n",
       "      <td>995.0</td>\n",
       "      <td>Maribor, Center</td>\n",
       "      <td>130.000000</td>\n",
       "      <td>273</td>\n",
       "      <td>7.653846</td>\n",
       "      <td>1</td>\n",
       "      <td>135.748744</td>\n",
       "    </tr>\n",
       "    <tr>\n",
       "      <th>279</th>\n",
       "      <td>1000.0</td>\n",
       "      <td>Maribor, Center</td>\n",
       "      <td>122.900000</td>\n",
       "      <td>104</td>\n",
       "      <td>8.136697</td>\n",
       "      <td>1</td>\n",
       "      <td>148.463200</td>\n",
       "    </tr>\n",
       "    <tr>\n",
       "      <th>290</th>\n",
       "      <td>1050.0</td>\n",
       "      <td>Maribor, Studenci</td>\n",
       "      <td>61.354655</td>\n",
       "      <td>334</td>\n",
       "      <td>17.113616</td>\n",
       "      <td>6</td>\n",
       "      <td>342.884873</td>\n",
       "    </tr>\n",
       "    <tr>\n",
       "      <th>296</th>\n",
       "      <td>1150.0</td>\n",
       "      <td>Maribor, Koroška vrata</td>\n",
       "      <td>61.354655</td>\n",
       "      <td>258</td>\n",
       "      <td>18.743484</td>\n",
       "      <td>6</td>\n",
       "      <td>337.397252</td>\n",
       "    </tr>\n",
       "    <tr>\n",
       "      <th>299</th>\n",
       "      <td>1200.0</td>\n",
       "      <td>Maribor, Košaki</td>\n",
       "      <td>61.354655</td>\n",
       "      <td>108</td>\n",
       "      <td>19.558418</td>\n",
       "      <td>6</td>\n",
       "      <td>369.355024</td>\n",
       "    </tr>\n",
       "  </tbody>\n",
       "</table>\n",
       "<p>82 rows × 7 columns</p>\n",
       "</div>"
      ],
      "text/plain": [
       "      price                     location        size  date    per_m^2  \\\n",
       "22    180.0  Hoče, Slivnica pri Mariboru   40.000000    57   4.500000   \n",
       "23    200.0           Maribor, Magdalena   61.354655   101   3.259736   \n",
       "31    260.0             Maribor, Kamnica   20.000000   360  13.000000   \n",
       "33    260.0              Maribor, Center   16.000000   118  16.250000   \n",
       "35    280.0            Maribor, Pobrežje   26.000000   148  10.769231   \n",
       "..      ...                          ...         ...   ...        ...   \n",
       "278   995.0              Maribor, Center  130.000000   273   7.653846   \n",
       "279  1000.0              Maribor, Center  122.900000   104   8.136697   \n",
       "290  1050.0            Maribor, Studenci   61.354655   334  17.113616   \n",
       "296  1150.0       Maribor, Koroška vrata   61.354655   258  18.743484   \n",
       "299  1200.0              Maribor, Košaki   61.354655   108  19.558418   \n",
       "\n",
       "     size_index        index  \n",
       "22            4  1115.555556  \n",
       "23            6  2229.014622  \n",
       "31            1    73.230769  \n",
       "33            1    73.476923  \n",
       "35            1   108.085714  \n",
       "..          ...          ...  \n",
       "278           1   135.748744  \n",
       "279           1   148.463200  \n",
       "290           6   342.884873  \n",
       "296           6   337.397252  \n",
       "299           6   369.355024  \n",
       "\n",
       "[82 rows x 7 columns]"
      ]
     },
     "execution_count": 158,
     "metadata": {},
     "output_type": "execute_result"
    }
   ],
   "source": [
    "mr = st.loc[st[\"location\"].str.contains(\"Maribor\")]\n",
    "mr"
   ]
  },
  {
   "cell_type": "code",
   "execution_count": 159,
   "metadata": {},
   "outputs": [
    {
     "data": {
      "text/plain": [
       "82"
      ]
     },
     "execution_count": 159,
     "metadata": {},
     "output_type": "execute_result"
    }
   ],
   "source": [
    "mr_len = len(mr)\n",
    "mr_len"
   ]
  },
  {
   "cell_type": "code",
   "execution_count": 160,
   "metadata": {},
   "outputs": [
    {
     "data": {
      "text/plain": [
       "495.2053661921997"
      ]
     },
     "execution_count": 160,
     "metadata": {},
     "output_type": "execute_result"
    }
   ],
   "source": [
    "mr_av = mr['index'].mean()\n",
    "mr_av"
   ]
  },
  {
   "cell_type": "code",
   "execution_count": 161,
   "metadata": {},
   "outputs": [
    {
     "data": {
      "text/plain": [
       "2229.014622413793"
      ]
     },
     "execution_count": 161,
     "metadata": {},
     "output_type": "execute_result"
    }
   ],
   "source": [
    "mr_max = mr['index'].max()\n",
    "mr_max"
   ]
  },
  {
   "cell_type": "code",
   "execution_count": 162,
   "metadata": {},
   "outputs": [
    {
     "data": {
      "text/plain": [
       "42.88"
      ]
     },
     "execution_count": 162,
     "metadata": {},
     "output_type": "execute_result"
    }
   ],
   "source": [
    "mr_min = mr['index'].min()\n",
    "mr_min"
   ]
  },
  {
   "cell_type": "code",
   "execution_count": 163,
   "metadata": {},
   "outputs": [
    {
     "data": {
      "text/plain": [
       "490.0635294117647"
      ]
     },
     "execution_count": 163,
     "metadata": {},
     "output_type": "execute_result"
    }
   ],
   "source": [
    "mr_median = mr['index'].median()\n",
    "mr_median"
   ]
  },
  {
   "cell_type": "code",
   "execution_count": 164,
   "metadata": {},
   "outputs": [
    {
     "data": {
      "text/plain": [
       "362.3802890984916"
      ]
     },
     "execution_count": 164,
     "metadata": {},
     "output_type": "execute_result"
    }
   ],
   "source": [
    "mr_std = mr['index'].std()\n",
    "mr_std"
   ]
  },
  {
   "attachments": {},
   "cell_type": "markdown",
   "metadata": {},
   "source": [
    "S temi podatki o Mariborskih stanovanjih bomo kasneje izračunali nekaj primerjav med mesti. Sedaj enako storimo za Ljublajno, Kranj, Koper, Velenje, Novo mesto, Ptuj in Jesenice. Vsa ta mesta bomo nato primerjali in določili vtstni red glede na ponudbo, glede na povprečen indeks, glede na največji indeks, glede na najmanjši indeks in glede na raznolikost indeksa. Na koncu bomo vse združili v najnaselje leta."
   ]
  },
  {
   "cell_type": "code",
   "execution_count": 165,
   "metadata": {},
   "outputs": [],
   "source": [
    "lj = st.loc[st[\"location\"].str.contains(\"Ljubljana\")]\n",
    "ce = st.loc[st[\"location\"].str.contains(\"Celje\")]\n",
    "kr = st.loc[st[\"location\"].str.contains(\"Kranj\")]\n",
    "ko = st.loc[st[\"location\"].str.contains(\"Koper\")]\n",
    "ve = st.loc[st[\"location\"].str.contains(\"Velenje\")]\n",
    "nm = st.loc[st[\"location\"].str.contains(\"Novo mesto\")]\n",
    "pt = st.loc[st[\"location\"].str.contains(\"Ptuj\")]\n",
    "je = st.loc[st[\"location\"].str.contains(\"Jesenice\")]"
   ]
  }
 ],
 "metadata": {
  "kernelspec": {
   "display_name": "Python 3",
   "language": "python",
   "name": "python3"
  },
  "language_info": {
   "codemirror_mode": {
    "name": "ipython",
    "version": 3
   },
   "file_extension": ".py",
   "mimetype": "text/x-python",
   "name": "python",
   "nbconvert_exporter": "python",
   "pygments_lexer": "ipython3",
   "version": "3.9.1"
  },
  "orig_nbformat": 4,
  "vscode": {
   "interpreter": {
    "hash": "3e24519b0ba229a6f9a71f39c1cb5a8bdc9138e2d11e58c1de9e81a631b04fde"
   }
  }
 },
 "nbformat": 4,
 "nbformat_minor": 2
}
